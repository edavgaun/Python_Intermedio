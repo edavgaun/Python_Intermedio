{
 "cells": [
  {
   "cell_type": "markdown",
   "metadata": {},
   "source": [
    "# Regresión Logística"
   ]
  },
  {
   "cell_type": "markdown",
   "metadata": {},
   "source": [
    "\\begin{align*}\n",
    "\\Large\n",
    "p_i=\\frac{1}{1+e^{-f(x)}}\n",
    "\\end{align*}"
   ]
  },
  {
   "cell_type": "code",
   "execution_count": 1,
   "metadata": {},
   "outputs": [],
   "source": [
    "import numpy as np\n",
    "import pandas as pd"
   ]
  },
  {
   "cell_type": "code",
   "execution_count": 2,
   "metadata": {},
   "outputs": [
    {
     "data": {
      "text/plain": [
       "100"
      ]
     },
     "execution_count": 2,
     "metadata": {},
     "output_type": "execute_result"
    }
   ],
   "source": [
    "candidatos=list(range(1,101))\n",
    "len(candidatos)"
   ]
  },
  {
   "cell_type": "code",
   "execution_count": 3,
   "metadata": {},
   "outputs": [
    {
     "data": {
      "text/plain": [
       "100"
      ]
     },
     "execution_count": 3,
     "metadata": {},
     "output_type": "execute_result"
    }
   ],
   "source": [
    "np.random.seed(1)\n",
    "exp=np.random.randint(0,15,100)\n",
    "len(exp)"
   ]
  },
  {
   "cell_type": "code",
   "execution_count": 4,
   "metadata": {},
   "outputs": [
    {
     "data": {
      "text/plain": [
       "100"
      ]
     },
     "execution_count": 4,
     "metadata": {},
     "output_type": "execute_result"
    }
   ],
   "source": [
    "np.random.seed(2)\n",
    "actual= [np.random.choice([\"Si\", \"No\"]) for n in range(100)]\n",
    "len(actual)"
   ]
  },
  {
   "cell_type": "code",
   "execution_count": 5,
   "metadata": {},
   "outputs": [
    {
     "data": {
      "text/plain": [
       "100"
      ]
     },
     "execution_count": 5,
     "metadata": {},
     "output_type": "execute_result"
    }
   ],
   "source": [
    "np.random.seed(3)\n",
    "cargo=[]\n",
    "for i in range(100):\n",
    "    if exp[i]!=0 and actual[i]==\"Si\":\n",
    "        cargo.append(np.random.choice([\"Operativo\", \"Administrativo\", \"Gerencial\", \"Directivo\"]))\n",
    "    elif exp[i]==0 and actual[i]==\"Si\":\n",
    "        cargo.append(\"Becario\")\n",
    "    else:\n",
    "        cargo.append(\"Desempleado\")\n",
    "len(cargo)"
   ]
  },
  {
   "cell_type": "code",
   "execution_count": 6,
   "metadata": {},
   "outputs": [
    {
     "data": {
      "text/plain": [
       "100"
      ]
     },
     "execution_count": 6,
     "metadata": {},
     "output_type": "execute_result"
    }
   ],
   "source": [
    "np.random.seed(4)\n",
    "edad= np.round(np.random.normal(28,4,100),0)\n",
    "len(edad)"
   ]
  },
  {
   "cell_type": "code",
   "execution_count": 7,
   "metadata": {},
   "outputs": [
    {
     "data": {
      "text/plain": [
       "(18.0, 38.0)"
      ]
     },
     "execution_count": 7,
     "metadata": {},
     "output_type": "execute_result"
    }
   ],
   "source": [
    "min(edad), max(edad)"
   ]
  },
  {
   "cell_type": "code",
   "execution_count": 8,
   "metadata": {},
   "outputs": [
    {
     "data": {
      "text/plain": [
       "100"
      ]
     },
     "execution_count": 8,
     "metadata": {},
     "output_type": "execute_result"
    }
   ],
   "source": [
    "np.random.seed(5)\n",
    "promedio=np.random.normal(7.5,0.9,100)\n",
    "len(promedio)"
   ]
  },
  {
   "cell_type": "code",
   "execution_count": 9,
   "metadata": {},
   "outputs": [
    {
     "data": {
      "text/html": [
       "<div>\n",
       "<style scoped>\n",
       "    .dataframe tbody tr th:only-of-type {\n",
       "        vertical-align: middle;\n",
       "    }\n",
       "\n",
       "    .dataframe tbody tr th {\n",
       "        vertical-align: top;\n",
       "    }\n",
       "\n",
       "    .dataframe thead th {\n",
       "        text-align: right;\n",
       "    }\n",
       "</style>\n",
       "<table border=\"1\" class=\"dataframe\">\n",
       "  <thead>\n",
       "    <tr style=\"text-align: right;\">\n",
       "      <th></th>\n",
       "      <th>Experiencia</th>\n",
       "      <th>Trabaja</th>\n",
       "      <th>Cargo</th>\n",
       "      <th>Edad</th>\n",
       "      <th>Promedio</th>\n",
       "    </tr>\n",
       "  </thead>\n",
       "  <tbody>\n",
       "    <tr>\n",
       "      <th>1</th>\n",
       "      <td>5</td>\n",
       "      <td>Si</td>\n",
       "      <td>Gerencial</td>\n",
       "      <td>28.0</td>\n",
       "      <td>7.897105</td>\n",
       "    </tr>\n",
       "    <tr>\n",
       "      <th>2</th>\n",
       "      <td>11</td>\n",
       "      <td>No</td>\n",
       "      <td>Desempleado</td>\n",
       "      <td>30.0</td>\n",
       "      <td>7.202217</td>\n",
       "    </tr>\n",
       "    <tr>\n",
       "      <th>3</th>\n",
       "      <td>12</td>\n",
       "      <td>No</td>\n",
       "      <td>Desempleado</td>\n",
       "      <td>24.0</td>\n",
       "      <td>9.687694</td>\n",
       "    </tr>\n",
       "    <tr>\n",
       "      <th>4</th>\n",
       "      <td>8</td>\n",
       "      <td>Si</td>\n",
       "      <td>Operativo</td>\n",
       "      <td>31.0</td>\n",
       "      <td>7.273117</td>\n",
       "    </tr>\n",
       "    <tr>\n",
       "      <th>5</th>\n",
       "      <td>9</td>\n",
       "      <td>Si</td>\n",
       "      <td>Administrativo</td>\n",
       "      <td>26.0</td>\n",
       "      <td>7.598649</td>\n",
       "    </tr>\n",
       "  </tbody>\n",
       "</table>\n",
       "</div>"
      ],
      "text/plain": [
       "   Experiencia Trabaja           Cargo  Edad  Promedio\n",
       "1            5      Si       Gerencial  28.0  7.897105\n",
       "2           11      No     Desempleado  30.0  7.202217\n",
       "3           12      No     Desempleado  24.0  9.687694\n",
       "4            8      Si       Operativo  31.0  7.273117\n",
       "5            9      Si  Administrativo  26.0  7.598649"
      ]
     },
     "execution_count": 9,
     "metadata": {},
     "output_type": "execute_result"
    }
   ],
   "source": [
    "df=pd.DataFrame({\"Experiencia\":exp,\n",
    "                 \"Trabaja\":actual,\n",
    "                 \"Cargo\":cargo,\n",
    "                 \"Edad\":edad,\n",
    "                 \"Promedio\":promedio}, \n",
    "                index=candidatos)\n",
    "df.head()"
   ]
  },
  {
   "cell_type": "code",
   "execution_count": 10,
   "metadata": {
    "scrolled": true
   },
   "outputs": [
    {
     "data": {
      "text/html": [
       "<div>\n",
       "<style scoped>\n",
       "    .dataframe tbody tr th:only-of-type {\n",
       "        vertical-align: middle;\n",
       "    }\n",
       "\n",
       "    .dataframe tbody tr th {\n",
       "        vertical-align: top;\n",
       "    }\n",
       "\n",
       "    .dataframe thead th {\n",
       "        text-align: right;\n",
       "    }\n",
       "</style>\n",
       "<table border=\"1\" class=\"dataframe\">\n",
       "  <thead>\n",
       "    <tr style=\"text-align: right;\">\n",
       "      <th></th>\n",
       "      <th>Experiencia</th>\n",
       "      <th>Trabaja</th>\n",
       "      <th>Cargo</th>\n",
       "      <th>Edad</th>\n",
       "      <th>Promedio</th>\n",
       "      <th>Tiempo_ultimo</th>\n",
       "    </tr>\n",
       "  </thead>\n",
       "  <tbody>\n",
       "    <tr>\n",
       "      <th>1</th>\n",
       "      <td>5</td>\n",
       "      <td>Si</td>\n",
       "      <td>Gerencial</td>\n",
       "      <td>28.0</td>\n",
       "      <td>7.897105</td>\n",
       "      <td>1.1</td>\n",
       "    </tr>\n",
       "    <tr>\n",
       "      <th>2</th>\n",
       "      <td>11</td>\n",
       "      <td>No</td>\n",
       "      <td>Desempleado</td>\n",
       "      <td>30.0</td>\n",
       "      <td>7.202217</td>\n",
       "      <td>9.6</td>\n",
       "    </tr>\n",
       "    <tr>\n",
       "      <th>3</th>\n",
       "      <td>12</td>\n",
       "      <td>No</td>\n",
       "      <td>Desempleado</td>\n",
       "      <td>24.0</td>\n",
       "      <td>9.687694</td>\n",
       "      <td>2.5</td>\n",
       "    </tr>\n",
       "    <tr>\n",
       "      <th>4</th>\n",
       "      <td>8</td>\n",
       "      <td>Si</td>\n",
       "      <td>Operativo</td>\n",
       "      <td>31.0</td>\n",
       "      <td>7.273117</td>\n",
       "      <td>7.3</td>\n",
       "    </tr>\n",
       "    <tr>\n",
       "      <th>5</th>\n",
       "      <td>9</td>\n",
       "      <td>Si</td>\n",
       "      <td>Administrativo</td>\n",
       "      <td>26.0</td>\n",
       "      <td>7.598649</td>\n",
       "      <td>4.4</td>\n",
       "    </tr>\n",
       "  </tbody>\n",
       "</table>\n",
       "</div>"
      ],
      "text/plain": [
       "   Experiencia Trabaja           Cargo  Edad  Promedio  Tiempo_ultimo\n",
       "1            5      Si       Gerencial  28.0  7.897105            1.1\n",
       "2           11      No     Desempleado  30.0  7.202217            9.6\n",
       "3           12      No     Desempleado  24.0  9.687694            2.5\n",
       "4            8      Si       Operativo  31.0  7.273117            7.3\n",
       "5            9      Si  Administrativo  26.0  7.598649            4.4"
      ]
     },
     "execution_count": 10,
     "metadata": {},
     "output_type": "execute_result"
    }
   ],
   "source": [
    "np.random.seed(5)\n",
    "df[\"Tiempo_ultimo\"]=df.Experiencia.apply(lambda x:round(x*np.random.rand(),1))\n",
    "df.head()"
   ]
  },
  {
   "cell_type": "code",
   "execution_count": 11,
   "metadata": {},
   "outputs": [
    {
     "data": {
      "text/html": [
       "<div>\n",
       "<style scoped>\n",
       "    .dataframe tbody tr th:only-of-type {\n",
       "        vertical-align: middle;\n",
       "    }\n",
       "\n",
       "    .dataframe tbody tr th {\n",
       "        vertical-align: top;\n",
       "    }\n",
       "\n",
       "    .dataframe thead th {\n",
       "        text-align: right;\n",
       "    }\n",
       "</style>\n",
       "<table border=\"1\" class=\"dataframe\">\n",
       "  <thead>\n",
       "    <tr style=\"text-align: right;\">\n",
       "      <th></th>\n",
       "      <th>Experiencia</th>\n",
       "      <th>Trabaja</th>\n",
       "      <th>Cargo</th>\n",
       "      <th>Edad</th>\n",
       "      <th>Promedio</th>\n",
       "      <th>Tiempo_ultimo</th>\n",
       "    </tr>\n",
       "  </thead>\n",
       "  <tbody>\n",
       "    <tr>\n",
       "      <th>8</th>\n",
       "      <td>0</td>\n",
       "      <td>No</td>\n",
       "      <td>Desempleado</td>\n",
       "      <td>30.0</td>\n",
       "      <td>6.967527</td>\n",
       "      <td>0.0</td>\n",
       "    </tr>\n",
       "    <tr>\n",
       "      <th>9</th>\n",
       "      <td>0</td>\n",
       "      <td>Si</td>\n",
       "      <td>Becario</td>\n",
       "      <td>29.0</td>\n",
       "      <td>7.668843</td>\n",
       "      <td>0.0</td>\n",
       "    </tr>\n",
       "    <tr>\n",
       "      <th>37</th>\n",
       "      <td>0</td>\n",
       "      <td>No</td>\n",
       "      <td>Desempleado</td>\n",
       "      <td>36.0</td>\n",
       "      <td>7.677894</td>\n",
       "      <td>0.0</td>\n",
       "    </tr>\n",
       "    <tr>\n",
       "      <th>47</th>\n",
       "      <td>0</td>\n",
       "      <td>No</td>\n",
       "      <td>Desempleado</td>\n",
       "      <td>27.0</td>\n",
       "      <td>8.525409</td>\n",
       "      <td>0.0</td>\n",
       "    </tr>\n",
       "    <tr>\n",
       "      <th>72</th>\n",
       "      <td>0</td>\n",
       "      <td>Si</td>\n",
       "      <td>Becario</td>\n",
       "      <td>29.0</td>\n",
       "      <td>8.884881</td>\n",
       "      <td>0.0</td>\n",
       "    </tr>\n",
       "    <tr>\n",
       "      <th>77</th>\n",
       "      <td>0</td>\n",
       "      <td>No</td>\n",
       "      <td>Desempleado</td>\n",
       "      <td>24.0</td>\n",
       "      <td>8.285389</td>\n",
       "      <td>0.0</td>\n",
       "    </tr>\n",
       "    <tr>\n",
       "      <th>100</th>\n",
       "      <td>0</td>\n",
       "      <td>Si</td>\n",
       "      <td>Becario</td>\n",
       "      <td>29.0</td>\n",
       "      <td>7.950439</td>\n",
       "      <td>0.0</td>\n",
       "    </tr>\n",
       "  </tbody>\n",
       "</table>\n",
       "</div>"
      ],
      "text/plain": [
       "     Experiencia Trabaja        Cargo  Edad  Promedio  Tiempo_ultimo\n",
       "8              0      No  Desempleado  30.0  6.967527            0.0\n",
       "9              0      Si      Becario  29.0  7.668843            0.0\n",
       "37             0      No  Desempleado  36.0  7.677894            0.0\n",
       "47             0      No  Desempleado  27.0  8.525409            0.0\n",
       "72             0      Si      Becario  29.0  8.884881            0.0\n",
       "77             0      No  Desempleado  24.0  8.285389            0.0\n",
       "100            0      Si      Becario  29.0  7.950439            0.0"
      ]
     },
     "execution_count": 11,
     "metadata": {},
     "output_type": "execute_result"
    }
   ],
   "source": [
    "df[df.Experiencia==0]"
   ]
  },
  {
   "cell_type": "code",
   "execution_count": 12,
   "metadata": {},
   "outputs": [],
   "source": [
    "def contrato(exp,trabaja,cargo,edad,promedio,tiempo):\n",
    "    if exp==0 and edad>=30:\n",
    "        return False\n",
    "    elif exp==0 and promedio<=8:\n",
    "        return False\n",
    "    elif trabaja==\"No\" and tiempo<=1:\n",
    "        return False\n",
    "    elif exp>=5 and promedio>=8:\n",
    "        return True\n",
    "    elif promedio>=9 and cargo==\"Gerencial\":\n",
    "        return True\n",
    "    elif edad>=30 and (cargo ==\"Gerencial\" or cargo ==\"Administrativo\"):\n",
    "        return True\n",
    "    else:\n",
    "        return False"
   ]
  },
  {
   "cell_type": "code",
   "execution_count": 13,
   "metadata": {},
   "outputs": [
    {
     "data": {
      "text/plain": [
       "False"
      ]
     },
     "execution_count": 13,
     "metadata": {},
     "output_type": "execute_result"
    }
   ],
   "source": [
    "contrato(df.iloc[0][0],df.iloc[0][1],df.iloc[0][2],df.iloc[0][3],df.iloc[0][4],df.iloc[0][5])"
   ]
  },
  {
   "cell_type": "code",
   "execution_count": 14,
   "metadata": {},
   "outputs": [],
   "source": [
    "df[\"Contrato\"]=[contrato(df.iloc[fila][0],df.iloc[fila][1],df.iloc[fila][2],df.iloc[fila][3],df.iloc[fila][4],df.iloc[fila][5]) \n",
    "                for fila in range(100)]"
   ]
  },
  {
   "cell_type": "code",
   "execution_count": 15,
   "metadata": {
    "scrolled": true
   },
   "outputs": [
    {
     "data": {
      "text/plain": [
       "False    76\n",
       "True     24\n",
       "Name: Contrato, dtype: int64"
      ]
     },
     "execution_count": 15,
     "metadata": {},
     "output_type": "execute_result"
    }
   ],
   "source": [
    "df.Contrato.value_counts()"
   ]
  },
  {
   "cell_type": "code",
   "execution_count": 16,
   "metadata": {},
   "outputs": [
    {
     "data": {
      "text/plain": [
       "Index(['Experiencia', 'Trabaja', 'Cargo', 'Edad', 'Promedio', 'Tiempo_ultimo',\n",
       "       'Contrato'],\n",
       "      dtype='object')"
      ]
     },
     "execution_count": 16,
     "metadata": {},
     "output_type": "execute_result"
    }
   ],
   "source": [
    "df.columns"
   ]
  },
  {
   "cell_type": "code",
   "execution_count": 17,
   "metadata": {},
   "outputs": [
    {
     "data": {
      "text/html": [
       "<div>\n",
       "<style scoped>\n",
       "    .dataframe tbody tr th:only-of-type {\n",
       "        vertical-align: middle;\n",
       "    }\n",
       "\n",
       "    .dataframe tbody tr th {\n",
       "        vertical-align: top;\n",
       "    }\n",
       "\n",
       "    .dataframe thead th {\n",
       "        text-align: right;\n",
       "    }\n",
       "</style>\n",
       "<table border=\"1\" class=\"dataframe\">\n",
       "  <thead>\n",
       "    <tr style=\"text-align: right;\">\n",
       "      <th>Contrato</th>\n",
       "      <th>False</th>\n",
       "      <th>True</th>\n",
       "    </tr>\n",
       "    <tr>\n",
       "      <th>Trabaja</th>\n",
       "      <th></th>\n",
       "      <th></th>\n",
       "    </tr>\n",
       "  </thead>\n",
       "  <tbody>\n",
       "    <tr>\n",
       "      <th>No</th>\n",
       "      <td>35</td>\n",
       "      <td>10</td>\n",
       "    </tr>\n",
       "    <tr>\n",
       "      <th>Si</th>\n",
       "      <td>41</td>\n",
       "      <td>14</td>\n",
       "    </tr>\n",
       "  </tbody>\n",
       "</table>\n",
       "</div>"
      ],
      "text/plain": [
       "Contrato  False  True \n",
       "Trabaja               \n",
       "No           35     10\n",
       "Si           41     14"
      ]
     },
     "execution_count": 17,
     "metadata": {},
     "output_type": "execute_result"
    }
   ],
   "source": [
    "tabla_contingencia=pd.crosstab(df.Trabaja, df.Contrato)\n",
    "tabla_contingencia"
   ]
  },
  {
   "cell_type": "code",
   "execution_count": 18,
   "metadata": {},
   "outputs": [
    {
     "data": {
      "text/html": [
       "<div>\n",
       "<style scoped>\n",
       "    .dataframe tbody tr th:only-of-type {\n",
       "        vertical-align: middle;\n",
       "    }\n",
       "\n",
       "    .dataframe tbody tr th {\n",
       "        vertical-align: top;\n",
       "    }\n",
       "\n",
       "    .dataframe thead th {\n",
       "        text-align: right;\n",
       "    }\n",
       "</style>\n",
       "<table border=\"1\" class=\"dataframe\">\n",
       "  <thead>\n",
       "    <tr style=\"text-align: right;\">\n",
       "      <th>Contrato</th>\n",
       "      <th>False</th>\n",
       "      <th>True</th>\n",
       "    </tr>\n",
       "    <tr>\n",
       "      <th>Trabaja</th>\n",
       "      <th></th>\n",
       "      <th></th>\n",
       "    </tr>\n",
       "  </thead>\n",
       "  <tbody>\n",
       "    <tr>\n",
       "      <th>No</th>\n",
       "      <td>0.460526</td>\n",
       "      <td>0.416667</td>\n",
       "    </tr>\n",
       "    <tr>\n",
       "      <th>Si</th>\n",
       "      <td>0.539474</td>\n",
       "      <td>0.583333</td>\n",
       "    </tr>\n",
       "  </tbody>\n",
       "</table>\n",
       "</div>"
      ],
      "text/plain": [
       "Contrato     False     True \n",
       "Trabaja                     \n",
       "No        0.460526  0.416667\n",
       "Si        0.539474  0.583333"
      ]
     },
     "execution_count": 18,
     "metadata": {},
     "output_type": "execute_result"
    }
   ],
   "source": [
    "tabla_contingencia2=pd.crosstab(df.Trabaja, df.Contrato, normalize=1)\n",
    "tabla_contingencia2"
   ]
  },
  {
   "cell_type": "code",
   "execution_count": 19,
   "metadata": {},
   "outputs": [
    {
     "data": {
      "image/png": "[encoded data removed]",
      "text/plain": [
       "<Figure size 432x288 with 2 Axes>"
      ]
     },
     "metadata": {
      "needs_background": "light"
     },
     "output_type": "display_data"
    }
   ],
   "source": [
    "import matplotlib.pyplot as plt\n",
    "import seaborn as sns\n",
    "sns.heatmap(tabla_contingencia2, cmap=\"RdBu\")\n",
    "plt.show()"
   ]
  },
  {
   "cell_type": "code",
   "execution_count": 20,
   "metadata": {},
   "outputs": [
    {
     "data": {
      "text/html": [
       "<div>\n",
       "<style scoped>\n",
       "    .dataframe tbody tr th:only-of-type {\n",
       "        vertical-align: middle;\n",
       "    }\n",
       "\n",
       "    .dataframe tbody tr th {\n",
       "        vertical-align: top;\n",
       "    }\n",
       "\n",
       "    .dataframe thead th {\n",
       "        text-align: right;\n",
       "    }\n",
       "</style>\n",
       "<table border=\"1\" class=\"dataframe\">\n",
       "  <thead>\n",
       "    <tr style=\"text-align: right;\">\n",
       "      <th></th>\n",
       "      <th>Experiencia</th>\n",
       "      <th>Trabaja</th>\n",
       "      <th>Cargo</th>\n",
       "      <th>Edad</th>\n",
       "      <th>Promedio</th>\n",
       "      <th>Tiempo_ultimo</th>\n",
       "      <th>Contrato</th>\n",
       "    </tr>\n",
       "  </thead>\n",
       "  <tbody>\n",
       "    <tr>\n",
       "      <th>1</th>\n",
       "      <td>5</td>\n",
       "      <td>Si</td>\n",
       "      <td>Gerencial</td>\n",
       "      <td>28.0</td>\n",
       "      <td>7.897105</td>\n",
       "      <td>1.1</td>\n",
       "      <td>False</td>\n",
       "    </tr>\n",
       "    <tr>\n",
       "      <th>2</th>\n",
       "      <td>11</td>\n",
       "      <td>No</td>\n",
       "      <td>Desempleado</td>\n",
       "      <td>30.0</td>\n",
       "      <td>7.202217</td>\n",
       "      <td>9.6</td>\n",
       "      <td>False</td>\n",
       "    </tr>\n",
       "    <tr>\n",
       "      <th>3</th>\n",
       "      <td>12</td>\n",
       "      <td>No</td>\n",
       "      <td>Desempleado</td>\n",
       "      <td>24.0</td>\n",
       "      <td>9.687694</td>\n",
       "      <td>2.5</td>\n",
       "      <td>True</td>\n",
       "    </tr>\n",
       "    <tr>\n",
       "      <th>4</th>\n",
       "      <td>8</td>\n",
       "      <td>Si</td>\n",
       "      <td>Operativo</td>\n",
       "      <td>31.0</td>\n",
       "      <td>7.273117</td>\n",
       "      <td>7.3</td>\n",
       "      <td>False</td>\n",
       "    </tr>\n",
       "    <tr>\n",
       "      <th>5</th>\n",
       "      <td>9</td>\n",
       "      <td>Si</td>\n",
       "      <td>Administrativo</td>\n",
       "      <td>26.0</td>\n",
       "      <td>7.598649</td>\n",
       "      <td>4.4</td>\n",
       "      <td>False</td>\n",
       "    </tr>\n",
       "  </tbody>\n",
       "</table>\n",
       "</div>"
      ],
      "text/plain": [
       "   Experiencia Trabaja           Cargo  Edad  Promedio  Tiempo_ultimo  \\\n",
       "1            5      Si       Gerencial  28.0  7.897105            1.1   \n",
       "2           11      No     Desempleado  30.0  7.202217            9.6   \n",
       "3           12      No     Desempleado  24.0  9.687694            2.5   \n",
       "4            8      Si       Operativo  31.0  7.273117            7.3   \n",
       "5            9      Si  Administrativo  26.0  7.598649            4.4   \n",
       "\n",
       "   Contrato  \n",
       "1     False  \n",
       "2     False  \n",
       "3      True  \n",
       "4     False  \n",
       "5     False  "
      ]
     },
     "execution_count": 20,
     "metadata": {},
     "output_type": "execute_result"
    }
   ],
   "source": [
    "df.head()"
   ]
  },
  {
   "cell_type": "code",
   "execution_count": 21,
   "metadata": {},
   "outputs": [
    {
     "data": {
      "text/html": [
       "<div>\n",
       "<style scoped>\n",
       "    .dataframe tbody tr th:only-of-type {\n",
       "        vertical-align: middle;\n",
       "    }\n",
       "\n",
       "    .dataframe tbody tr th {\n",
       "        vertical-align: top;\n",
       "    }\n",
       "\n",
       "    .dataframe thead th {\n",
       "        text-align: right;\n",
       "    }\n",
       "</style>\n",
       "<table border=\"1\" class=\"dataframe\">\n",
       "  <thead>\n",
       "    <tr style=\"text-align: right;\">\n",
       "      <th></th>\n",
       "      <th>Trabaja__No</th>\n",
       "      <th>Trabaja__Si</th>\n",
       "    </tr>\n",
       "  </thead>\n",
       "  <tbody>\n",
       "    <tr>\n",
       "      <th>1</th>\n",
       "      <td>0</td>\n",
       "      <td>1</td>\n",
       "    </tr>\n",
       "    <tr>\n",
       "      <th>2</th>\n",
       "      <td>1</td>\n",
       "      <td>0</td>\n",
       "    </tr>\n",
       "    <tr>\n",
       "      <th>3</th>\n",
       "      <td>1</td>\n",
       "      <td>0</td>\n",
       "    </tr>\n",
       "    <tr>\n",
       "      <th>4</th>\n",
       "      <td>0</td>\n",
       "      <td>1</td>\n",
       "    </tr>\n",
       "    <tr>\n",
       "      <th>5</th>\n",
       "      <td>0</td>\n",
       "      <td>1</td>\n",
       "    </tr>\n",
       "  </tbody>\n",
       "</table>\n",
       "</div>"
      ],
      "text/plain": [
       "   Trabaja__No  Trabaja__Si\n",
       "1            0            1\n",
       "2            1            0\n",
       "3            1            0\n",
       "4            0            1\n",
       "5            0            1"
      ]
     },
     "execution_count": 21,
     "metadata": {},
     "output_type": "execute_result"
    }
   ],
   "source": [
    "dummies=pd.get_dummies(df.Trabaja, prefix=\"Trabaja_\")\n",
    "dummies.head()"
   ]
  },
  {
   "cell_type": "code",
   "execution_count": 22,
   "metadata": {},
   "outputs": [
    {
     "data": {
      "text/html": [
       "<div>\n",
       "<style scoped>\n",
       "    .dataframe tbody tr th:only-of-type {\n",
       "        vertical-align: middle;\n",
       "    }\n",
       "\n",
       "    .dataframe tbody tr th {\n",
       "        vertical-align: top;\n",
       "    }\n",
       "\n",
       "    .dataframe thead th {\n",
       "        text-align: right;\n",
       "    }\n",
       "</style>\n",
       "<table border=\"1\" class=\"dataframe\">\n",
       "  <thead>\n",
       "    <tr style=\"text-align: right;\">\n",
       "      <th></th>\n",
       "      <th>Experiencia</th>\n",
       "      <th>Trabaja</th>\n",
       "      <th>Cargo</th>\n",
       "      <th>Edad</th>\n",
       "      <th>Promedio</th>\n",
       "      <th>Tiempo_ultimo</th>\n",
       "      <th>Contrato</th>\n",
       "      <th>Trabaja__No</th>\n",
       "      <th>Trabaja__Si</th>\n",
       "    </tr>\n",
       "  </thead>\n",
       "  <tbody>\n",
       "    <tr>\n",
       "      <th>1</th>\n",
       "      <td>5</td>\n",
       "      <td>Si</td>\n",
       "      <td>Gerencial</td>\n",
       "      <td>28.0</td>\n",
       "      <td>7.897105</td>\n",
       "      <td>1.1</td>\n",
       "      <td>False</td>\n",
       "      <td>0</td>\n",
       "      <td>1</td>\n",
       "    </tr>\n",
       "    <tr>\n",
       "      <th>2</th>\n",
       "      <td>11</td>\n",
       "      <td>No</td>\n",
       "      <td>Desempleado</td>\n",
       "      <td>30.0</td>\n",
       "      <td>7.202217</td>\n",
       "      <td>9.6</td>\n",
       "      <td>False</td>\n",
       "      <td>1</td>\n",
       "      <td>0</td>\n",
       "    </tr>\n",
       "    <tr>\n",
       "      <th>3</th>\n",
       "      <td>12</td>\n",
       "      <td>No</td>\n",
       "      <td>Desempleado</td>\n",
       "      <td>24.0</td>\n",
       "      <td>9.687694</td>\n",
       "      <td>2.5</td>\n",
       "      <td>True</td>\n",
       "      <td>1</td>\n",
       "      <td>0</td>\n",
       "    </tr>\n",
       "    <tr>\n",
       "      <th>4</th>\n",
       "      <td>8</td>\n",
       "      <td>Si</td>\n",
       "      <td>Operativo</td>\n",
       "      <td>31.0</td>\n",
       "      <td>7.273117</td>\n",
       "      <td>7.3</td>\n",
       "      <td>False</td>\n",
       "      <td>0</td>\n",
       "      <td>1</td>\n",
       "    </tr>\n",
       "    <tr>\n",
       "      <th>5</th>\n",
       "      <td>9</td>\n",
       "      <td>Si</td>\n",
       "      <td>Administrativo</td>\n",
       "      <td>26.0</td>\n",
       "      <td>7.598649</td>\n",
       "      <td>4.4</td>\n",
       "      <td>False</td>\n",
       "      <td>0</td>\n",
       "      <td>1</td>\n",
       "    </tr>\n",
       "    <tr>\n",
       "      <th>...</th>\n",
       "      <td>...</td>\n",
       "      <td>...</td>\n",
       "      <td>...</td>\n",
       "      <td>...</td>\n",
       "      <td>...</td>\n",
       "      <td>...</td>\n",
       "      <td>...</td>\n",
       "      <td>...</td>\n",
       "      <td>...</td>\n",
       "    </tr>\n",
       "    <tr>\n",
       "      <th>96</th>\n",
       "      <td>9</td>\n",
       "      <td>No</td>\n",
       "      <td>Desempleado</td>\n",
       "      <td>30.0</td>\n",
       "      <td>8.209414</td>\n",
       "      <td>4.0</td>\n",
       "      <td>True</td>\n",
       "      <td>1</td>\n",
       "      <td>0</td>\n",
       "    </tr>\n",
       "    <tr>\n",
       "      <th>97</th>\n",
       "      <td>3</td>\n",
       "      <td>Si</td>\n",
       "      <td>Directivo</td>\n",
       "      <td>26.0</td>\n",
       "      <td>7.099113</td>\n",
       "      <td>2.4</td>\n",
       "      <td>False</td>\n",
       "      <td>0</td>\n",
       "      <td>1</td>\n",
       "    </tr>\n",
       "    <tr>\n",
       "      <th>98</th>\n",
       "      <td>6</td>\n",
       "      <td>No</td>\n",
       "      <td>Desempleado</td>\n",
       "      <td>27.0</td>\n",
       "      <td>7.066092</td>\n",
       "      <td>0.1</td>\n",
       "      <td>False</td>\n",
       "      <td>1</td>\n",
       "      <td>0</td>\n",
       "    </tr>\n",
       "    <tr>\n",
       "      <th>99</th>\n",
       "      <td>8</td>\n",
       "      <td>Si</td>\n",
       "      <td>Operativo</td>\n",
       "      <td>24.0</td>\n",
       "      <td>7.944202</td>\n",
       "      <td>4.6</td>\n",
       "      <td>False</td>\n",
       "      <td>0</td>\n",
       "      <td>1</td>\n",
       "    </tr>\n",
       "    <tr>\n",
       "      <th>100</th>\n",
       "      <td>0</td>\n",
       "      <td>Si</td>\n",
       "      <td>Becario</td>\n",
       "      <td>29.0</td>\n",
       "      <td>7.950439</td>\n",
       "      <td>0.0</td>\n",
       "      <td>False</td>\n",
       "      <td>0</td>\n",
       "      <td>1</td>\n",
       "    </tr>\n",
       "  </tbody>\n",
       "</table>\n",
       "<p>100 rows × 9 columns</p>\n",
       "</div>"
      ],
      "text/plain": [
       "     Experiencia Trabaja           Cargo  Edad  Promedio  Tiempo_ultimo  \\\n",
       "1              5      Si       Gerencial  28.0  7.897105            1.1   \n",
       "2             11      No     Desempleado  30.0  7.202217            9.6   \n",
       "3             12      No     Desempleado  24.0  9.687694            2.5   \n",
       "4              8      Si       Operativo  31.0  7.273117            7.3   \n",
       "5              9      Si  Administrativo  26.0  7.598649            4.4   \n",
       "..           ...     ...             ...   ...       ...            ...   \n",
       "96             9      No     Desempleado  30.0  8.209414            4.0   \n",
       "97             3      Si       Directivo  26.0  7.099113            2.4   \n",
       "98             6      No     Desempleado  27.0  7.066092            0.1   \n",
       "99             8      Si       Operativo  24.0  7.944202            4.6   \n",
       "100            0      Si         Becario  29.0  7.950439            0.0   \n",
       "\n",
       "     Contrato  Trabaja__No  Trabaja__Si  \n",
       "1       False            0            1  \n",
       "2       False            1            0  \n",
       "3        True            1            0  \n",
       "4       False            0            1  \n",
       "5       False            0            1  \n",
       "..        ...          ...          ...  \n",
       "96       True            1            0  \n",
       "97      False            0            1  \n",
       "98      False            1            0  \n",
       "99      False            0            1  \n",
       "100     False            0            1  \n",
       "\n",
       "[100 rows x 9 columns]"
      ]
     },
     "execution_count": 22,
     "metadata": {},
     "output_type": "execute_result"
    }
   ],
   "source": [
    "df_2=pd.concat([df,dummies],axis=1)\n",
    "df_2"
   ]
  },
  {
   "cell_type": "code",
   "execution_count": 23,
   "metadata": {},
   "outputs": [
    {
     "data": {
      "text/html": [
       "<div>\n",
       "<style scoped>\n",
       "    .dataframe tbody tr th:only-of-type {\n",
       "        vertical-align: middle;\n",
       "    }\n",
       "\n",
       "    .dataframe tbody tr th {\n",
       "        vertical-align: top;\n",
       "    }\n",
       "\n",
       "    .dataframe thead th {\n",
       "        text-align: right;\n",
       "    }\n",
       "</style>\n",
       "<table border=\"1\" class=\"dataframe\">\n",
       "  <thead>\n",
       "    <tr style=\"text-align: right;\">\n",
       "      <th></th>\n",
       "      <th>Administrativo</th>\n",
       "      <th>Becario</th>\n",
       "      <th>Desempleado</th>\n",
       "      <th>Directivo</th>\n",
       "      <th>Gerencial</th>\n",
       "      <th>Operativo</th>\n",
       "    </tr>\n",
       "  </thead>\n",
       "  <tbody>\n",
       "    <tr>\n",
       "      <th>1</th>\n",
       "      <td>0</td>\n",
       "      <td>0</td>\n",
       "      <td>0</td>\n",
       "      <td>0</td>\n",
       "      <td>1</td>\n",
       "      <td>0</td>\n",
       "    </tr>\n",
       "    <tr>\n",
       "      <th>2</th>\n",
       "      <td>0</td>\n",
       "      <td>0</td>\n",
       "      <td>1</td>\n",
       "      <td>0</td>\n",
       "      <td>0</td>\n",
       "      <td>0</td>\n",
       "    </tr>\n",
       "    <tr>\n",
       "      <th>3</th>\n",
       "      <td>0</td>\n",
       "      <td>0</td>\n",
       "      <td>1</td>\n",
       "      <td>0</td>\n",
       "      <td>0</td>\n",
       "      <td>0</td>\n",
       "    </tr>\n",
       "    <tr>\n",
       "      <th>4</th>\n",
       "      <td>0</td>\n",
       "      <td>0</td>\n",
       "      <td>0</td>\n",
       "      <td>0</td>\n",
       "      <td>0</td>\n",
       "      <td>1</td>\n",
       "    </tr>\n",
       "    <tr>\n",
       "      <th>5</th>\n",
       "      <td>1</td>\n",
       "      <td>0</td>\n",
       "      <td>0</td>\n",
       "      <td>0</td>\n",
       "      <td>0</td>\n",
       "      <td>0</td>\n",
       "    </tr>\n",
       "  </tbody>\n",
       "</table>\n",
       "</div>"
      ],
      "text/plain": [
       "   Administrativo  Becario  Desempleado  Directivo  Gerencial  Operativo\n",
       "1               0        0            0          0          1          0\n",
       "2               0        0            1          0          0          0\n",
       "3               0        0            1          0          0          0\n",
       "4               0        0            0          0          0          1\n",
       "5               1        0            0          0          0          0"
      ]
     },
     "execution_count": 23,
     "metadata": {},
     "output_type": "execute_result"
    }
   ],
   "source": [
    "dummies2=pd.get_dummies(df.Cargo)\n",
    "dummies2.head()"
   ]
  },
  {
   "cell_type": "code",
   "execution_count": 24,
   "metadata": {},
   "outputs": [
    {
     "data": {
      "text/html": [
       "<div>\n",
       "<style scoped>\n",
       "    .dataframe tbody tr th:only-of-type {\n",
       "        vertical-align: middle;\n",
       "    }\n",
       "\n",
       "    .dataframe tbody tr th {\n",
       "        vertical-align: top;\n",
       "    }\n",
       "\n",
       "    .dataframe thead th {\n",
       "        text-align: right;\n",
       "    }\n",
       "</style>\n",
       "<table border=\"1\" class=\"dataframe\">\n",
       "  <thead>\n",
       "    <tr style=\"text-align: right;\">\n",
       "      <th></th>\n",
       "      <th>Experiencia</th>\n",
       "      <th>Trabaja</th>\n",
       "      <th>Cargo</th>\n",
       "      <th>Edad</th>\n",
       "      <th>Promedio</th>\n",
       "      <th>Tiempo_ultimo</th>\n",
       "      <th>Contrato</th>\n",
       "      <th>Trabaja__No</th>\n",
       "      <th>Trabaja__Si</th>\n",
       "      <th>Administrativo</th>\n",
       "      <th>Becario</th>\n",
       "      <th>Desempleado</th>\n",
       "      <th>Directivo</th>\n",
       "      <th>Gerencial</th>\n",
       "      <th>Operativo</th>\n",
       "    </tr>\n",
       "  </thead>\n",
       "  <tbody>\n",
       "    <tr>\n",
       "      <th>1</th>\n",
       "      <td>5</td>\n",
       "      <td>Si</td>\n",
       "      <td>Gerencial</td>\n",
       "      <td>28.0</td>\n",
       "      <td>7.897105</td>\n",
       "      <td>1.1</td>\n",
       "      <td>False</td>\n",
       "      <td>0</td>\n",
       "      <td>1</td>\n",
       "      <td>0</td>\n",
       "      <td>0</td>\n",
       "      <td>0</td>\n",
       "      <td>0</td>\n",
       "      <td>1</td>\n",
       "      <td>0</td>\n",
       "    </tr>\n",
       "    <tr>\n",
       "      <th>2</th>\n",
       "      <td>11</td>\n",
       "      <td>No</td>\n",
       "      <td>Desempleado</td>\n",
       "      <td>30.0</td>\n",
       "      <td>7.202217</td>\n",
       "      <td>9.6</td>\n",
       "      <td>False</td>\n",
       "      <td>1</td>\n",
       "      <td>0</td>\n",
       "      <td>0</td>\n",
       "      <td>0</td>\n",
       "      <td>1</td>\n",
       "      <td>0</td>\n",
       "      <td>0</td>\n",
       "      <td>0</td>\n",
       "    </tr>\n",
       "    <tr>\n",
       "      <th>3</th>\n",
       "      <td>12</td>\n",
       "      <td>No</td>\n",
       "      <td>Desempleado</td>\n",
       "      <td>24.0</td>\n",
       "      <td>9.687694</td>\n",
       "      <td>2.5</td>\n",
       "      <td>True</td>\n",
       "      <td>1</td>\n",
       "      <td>0</td>\n",
       "      <td>0</td>\n",
       "      <td>0</td>\n",
       "      <td>1</td>\n",
       "      <td>0</td>\n",
       "      <td>0</td>\n",
       "      <td>0</td>\n",
       "    </tr>\n",
       "    <tr>\n",
       "      <th>4</th>\n",
       "      <td>8</td>\n",
       "      <td>Si</td>\n",
       "      <td>Operativo</td>\n",
       "      <td>31.0</td>\n",
       "      <td>7.273117</td>\n",
       "      <td>7.3</td>\n",
       "      <td>False</td>\n",
       "      <td>0</td>\n",
       "      <td>1</td>\n",
       "      <td>0</td>\n",
       "      <td>0</td>\n",
       "      <td>0</td>\n",
       "      <td>0</td>\n",
       "      <td>0</td>\n",
       "      <td>1</td>\n",
       "    </tr>\n",
       "    <tr>\n",
       "      <th>5</th>\n",
       "      <td>9</td>\n",
       "      <td>Si</td>\n",
       "      <td>Administrativo</td>\n",
       "      <td>26.0</td>\n",
       "      <td>7.598649</td>\n",
       "      <td>4.4</td>\n",
       "      <td>False</td>\n",
       "      <td>0</td>\n",
       "      <td>1</td>\n",
       "      <td>1</td>\n",
       "      <td>0</td>\n",
       "      <td>0</td>\n",
       "      <td>0</td>\n",
       "      <td>0</td>\n",
       "      <td>0</td>\n",
       "    </tr>\n",
       "    <tr>\n",
       "      <th>...</th>\n",
       "      <td>...</td>\n",
       "      <td>...</td>\n",
       "      <td>...</td>\n",
       "      <td>...</td>\n",
       "      <td>...</td>\n",
       "      <td>...</td>\n",
       "      <td>...</td>\n",
       "      <td>...</td>\n",
       "      <td>...</td>\n",
       "      <td>...</td>\n",
       "      <td>...</td>\n",
       "      <td>...</td>\n",
       "      <td>...</td>\n",
       "      <td>...</td>\n",
       "      <td>...</td>\n",
       "    </tr>\n",
       "    <tr>\n",
       "      <th>96</th>\n",
       "      <td>9</td>\n",
       "      <td>No</td>\n",
       "      <td>Desempleado</td>\n",
       "      <td>30.0</td>\n",
       "      <td>8.209414</td>\n",
       "      <td>4.0</td>\n",
       "      <td>True</td>\n",
       "      <td>1</td>\n",
       "      <td>0</td>\n",
       "      <td>0</td>\n",
       "      <td>0</td>\n",
       "      <td>1</td>\n",
       "      <td>0</td>\n",
       "      <td>0</td>\n",
       "      <td>0</td>\n",
       "    </tr>\n",
       "    <tr>\n",
       "      <th>97</th>\n",
       "      <td>3</td>\n",
       "      <td>Si</td>\n",
       "      <td>Directivo</td>\n",
       "      <td>26.0</td>\n",
       "      <td>7.099113</td>\n",
       "      <td>2.4</td>\n",
       "      <td>False</td>\n",
       "      <td>0</td>\n",
       "      <td>1</td>\n",
       "      <td>0</td>\n",
       "      <td>0</td>\n",
       "      <td>0</td>\n",
       "      <td>1</td>\n",
       "      <td>0</td>\n",
       "      <td>0</td>\n",
       "    </tr>\n",
       "    <tr>\n",
       "      <th>98</th>\n",
       "      <td>6</td>\n",
       "      <td>No</td>\n",
       "      <td>Desempleado</td>\n",
       "      <td>27.0</td>\n",
       "      <td>7.066092</td>\n",
       "      <td>0.1</td>\n",
       "      <td>False</td>\n",
       "      <td>1</td>\n",
       "      <td>0</td>\n",
       "      <td>0</td>\n",
       "      <td>0</td>\n",
       "      <td>1</td>\n",
       "      <td>0</td>\n",
       "      <td>0</td>\n",
       "      <td>0</td>\n",
       "    </tr>\n",
       "    <tr>\n",
       "      <th>99</th>\n",
       "      <td>8</td>\n",
       "      <td>Si</td>\n",
       "      <td>Operativo</td>\n",
       "      <td>24.0</td>\n",
       "      <td>7.944202</td>\n",
       "      <td>4.6</td>\n",
       "      <td>False</td>\n",
       "      <td>0</td>\n",
       "      <td>1</td>\n",
       "      <td>0</td>\n",
       "      <td>0</td>\n",
       "      <td>0</td>\n",
       "      <td>0</td>\n",
       "      <td>0</td>\n",
       "      <td>1</td>\n",
       "    </tr>\n",
       "    <tr>\n",
       "      <th>100</th>\n",
       "      <td>0</td>\n",
       "      <td>Si</td>\n",
       "      <td>Becario</td>\n",
       "      <td>29.0</td>\n",
       "      <td>7.950439</td>\n",
       "      <td>0.0</td>\n",
       "      <td>False</td>\n",
       "      <td>0</td>\n",
       "      <td>1</td>\n",
       "      <td>0</td>\n",
       "      <td>1</td>\n",
       "      <td>0</td>\n",
       "      <td>0</td>\n",
       "      <td>0</td>\n",
       "      <td>0</td>\n",
       "    </tr>\n",
       "  </tbody>\n",
       "</table>\n",
       "<p>100 rows × 15 columns</p>\n",
       "</div>"
      ],
      "text/plain": [
       "     Experiencia Trabaja           Cargo  Edad  Promedio  Tiempo_ultimo  \\\n",
       "1              5      Si       Gerencial  28.0  7.897105            1.1   \n",
       "2             11      No     Desempleado  30.0  7.202217            9.6   \n",
       "3             12      No     Desempleado  24.0  9.687694            2.5   \n",
       "4              8      Si       Operativo  31.0  7.273117            7.3   \n",
       "5              9      Si  Administrativo  26.0  7.598649            4.4   \n",
       "..           ...     ...             ...   ...       ...            ...   \n",
       "96             9      No     Desempleado  30.0  8.209414            4.0   \n",
       "97             3      Si       Directivo  26.0  7.099113            2.4   \n",
       "98             6      No     Desempleado  27.0  7.066092            0.1   \n",
       "99             8      Si       Operativo  24.0  7.944202            4.6   \n",
       "100            0      Si         Becario  29.0  7.950439            0.0   \n",
       "\n",
       "     Contrato  Trabaja__No  Trabaja__Si  Administrativo  Becario  Desempleado  \\\n",
       "1       False            0            1               0        0            0   \n",
       "2       False            1            0               0        0            1   \n",
       "3        True            1            0               0        0            1   \n",
       "4       False            0            1               0        0            0   \n",
       "5       False            0            1               1        0            0   \n",
       "..        ...          ...          ...             ...      ...          ...   \n",
       "96       True            1            0               0        0            1   \n",
       "97      False            0            1               0        0            0   \n",
       "98      False            1            0               0        0            1   \n",
       "99      False            0            1               0        0            0   \n",
       "100     False            0            1               0        1            0   \n",
       "\n",
       "     Directivo  Gerencial  Operativo  \n",
       "1            0          1          0  \n",
       "2            0          0          0  \n",
       "3            0          0          0  \n",
       "4            0          0          1  \n",
       "5            0          0          0  \n",
       "..         ...        ...        ...  \n",
       "96           0          0          0  \n",
       "97           1          0          0  \n",
       "98           0          0          0  \n",
       "99           0          0          1  \n",
       "100          0          0          0  \n",
       "\n",
       "[100 rows x 15 columns]"
      ]
     },
     "execution_count": 24,
     "metadata": {},
     "output_type": "execute_result"
    }
   ],
   "source": [
    "df_3=pd.concat([df_2,dummies2],axis=1)\n",
    "df_3"
   ]
  },
  {
   "cell_type": "code",
   "execution_count": 25,
   "metadata": {
    "scrolled": true
   },
   "outputs": [
    {
     "data": {
      "text/html": [
       "<div>\n",
       "<style scoped>\n",
       "    .dataframe tbody tr th:only-of-type {\n",
       "        vertical-align: middle;\n",
       "    }\n",
       "\n",
       "    .dataframe tbody tr th {\n",
       "        vertical-align: top;\n",
       "    }\n",
       "\n",
       "    .dataframe thead th {\n",
       "        text-align: right;\n",
       "    }\n",
       "</style>\n",
       "<table border=\"1\" class=\"dataframe\">\n",
       "  <thead>\n",
       "    <tr style=\"text-align: right;\">\n",
       "      <th></th>\n",
       "      <th>Contrato__False</th>\n",
       "      <th>Contrato__True</th>\n",
       "    </tr>\n",
       "  </thead>\n",
       "  <tbody>\n",
       "    <tr>\n",
       "      <th>1</th>\n",
       "      <td>1</td>\n",
       "      <td>0</td>\n",
       "    </tr>\n",
       "    <tr>\n",
       "      <th>2</th>\n",
       "      <td>1</td>\n",
       "      <td>0</td>\n",
       "    </tr>\n",
       "    <tr>\n",
       "      <th>3</th>\n",
       "      <td>0</td>\n",
       "      <td>1</td>\n",
       "    </tr>\n",
       "    <tr>\n",
       "      <th>4</th>\n",
       "      <td>1</td>\n",
       "      <td>0</td>\n",
       "    </tr>\n",
       "    <tr>\n",
       "      <th>5</th>\n",
       "      <td>1</td>\n",
       "      <td>0</td>\n",
       "    </tr>\n",
       "  </tbody>\n",
       "</table>\n",
       "</div>"
      ],
      "text/plain": [
       "   Contrato__False  Contrato__True\n",
       "1                1               0\n",
       "2                1               0\n",
       "3                0               1\n",
       "4                1               0\n",
       "5                1               0"
      ]
     },
     "execution_count": 25,
     "metadata": {},
     "output_type": "execute_result"
    }
   ],
   "source": [
    "dummies3=pd.get_dummies(df.Contrato, prefix=\"Contrato_\")\n",
    "dummies3.head()"
   ]
  },
  {
   "cell_type": "code",
   "execution_count": 26,
   "metadata": {},
   "outputs": [
    {
     "data": {
      "text/html": [
       "<div>\n",
       "<style scoped>\n",
       "    .dataframe tbody tr th:only-of-type {\n",
       "        vertical-align: middle;\n",
       "    }\n",
       "\n",
       "    .dataframe tbody tr th {\n",
       "        vertical-align: top;\n",
       "    }\n",
       "\n",
       "    .dataframe thead th {\n",
       "        text-align: right;\n",
       "    }\n",
       "</style>\n",
       "<table border=\"1\" class=\"dataframe\">\n",
       "  <thead>\n",
       "    <tr style=\"text-align: right;\">\n",
       "      <th></th>\n",
       "      <th>Experiencia</th>\n",
       "      <th>Trabaja</th>\n",
       "      <th>Cargo</th>\n",
       "      <th>Edad</th>\n",
       "      <th>Promedio</th>\n",
       "      <th>Tiempo_ultimo</th>\n",
       "      <th>Contrato</th>\n",
       "      <th>Trabaja__No</th>\n",
       "      <th>Trabaja__Si</th>\n",
       "      <th>Administrativo</th>\n",
       "      <th>Becario</th>\n",
       "      <th>Desempleado</th>\n",
       "      <th>Directivo</th>\n",
       "      <th>Gerencial</th>\n",
       "      <th>Operativo</th>\n",
       "      <th>Contrato__False</th>\n",
       "      <th>Contrato__True</th>\n",
       "    </tr>\n",
       "  </thead>\n",
       "  <tbody>\n",
       "    <tr>\n",
       "      <th>1</th>\n",
       "      <td>5</td>\n",
       "      <td>Si</td>\n",
       "      <td>Gerencial</td>\n",
       "      <td>28.0</td>\n",
       "      <td>7.897105</td>\n",
       "      <td>1.1</td>\n",
       "      <td>False</td>\n",
       "      <td>0</td>\n",
       "      <td>1</td>\n",
       "      <td>0</td>\n",
       "      <td>0</td>\n",
       "      <td>0</td>\n",
       "      <td>0</td>\n",
       "      <td>1</td>\n",
       "      <td>0</td>\n",
       "      <td>1</td>\n",
       "      <td>0</td>\n",
       "    </tr>\n",
       "    <tr>\n",
       "      <th>2</th>\n",
       "      <td>11</td>\n",
       "      <td>No</td>\n",
       "      <td>Desempleado</td>\n",
       "      <td>30.0</td>\n",
       "      <td>7.202217</td>\n",
       "      <td>9.6</td>\n",
       "      <td>False</td>\n",
       "      <td>1</td>\n",
       "      <td>0</td>\n",
       "      <td>0</td>\n",
       "      <td>0</td>\n",
       "      <td>1</td>\n",
       "      <td>0</td>\n",
       "      <td>0</td>\n",
       "      <td>0</td>\n",
       "      <td>1</td>\n",
       "      <td>0</td>\n",
       "    </tr>\n",
       "    <tr>\n",
       "      <th>3</th>\n",
       "      <td>12</td>\n",
       "      <td>No</td>\n",
       "      <td>Desempleado</td>\n",
       "      <td>24.0</td>\n",
       "      <td>9.687694</td>\n",
       "      <td>2.5</td>\n",
       "      <td>True</td>\n",
       "      <td>1</td>\n",
       "      <td>0</td>\n",
       "      <td>0</td>\n",
       "      <td>0</td>\n",
       "      <td>1</td>\n",
       "      <td>0</td>\n",
       "      <td>0</td>\n",
       "      <td>0</td>\n",
       "      <td>0</td>\n",
       "      <td>1</td>\n",
       "    </tr>\n",
       "    <tr>\n",
       "      <th>4</th>\n",
       "      <td>8</td>\n",
       "      <td>Si</td>\n",
       "      <td>Operativo</td>\n",
       "      <td>31.0</td>\n",
       "      <td>7.273117</td>\n",
       "      <td>7.3</td>\n",
       "      <td>False</td>\n",
       "      <td>0</td>\n",
       "      <td>1</td>\n",
       "      <td>0</td>\n",
       "      <td>0</td>\n",
       "      <td>0</td>\n",
       "      <td>0</td>\n",
       "      <td>0</td>\n",
       "      <td>1</td>\n",
       "      <td>1</td>\n",
       "      <td>0</td>\n",
       "    </tr>\n",
       "    <tr>\n",
       "      <th>5</th>\n",
       "      <td>9</td>\n",
       "      <td>Si</td>\n",
       "      <td>Administrativo</td>\n",
       "      <td>26.0</td>\n",
       "      <td>7.598649</td>\n",
       "      <td>4.4</td>\n",
       "      <td>False</td>\n",
       "      <td>0</td>\n",
       "      <td>1</td>\n",
       "      <td>1</td>\n",
       "      <td>0</td>\n",
       "      <td>0</td>\n",
       "      <td>0</td>\n",
       "      <td>0</td>\n",
       "      <td>0</td>\n",
       "      <td>1</td>\n",
       "      <td>0</td>\n",
       "    </tr>\n",
       "    <tr>\n",
       "      <th>...</th>\n",
       "      <td>...</td>\n",
       "      <td>...</td>\n",
       "      <td>...</td>\n",
       "      <td>...</td>\n",
       "      <td>...</td>\n",
       "      <td>...</td>\n",
       "      <td>...</td>\n",
       "      <td>...</td>\n",
       "      <td>...</td>\n",
       "      <td>...</td>\n",
       "      <td>...</td>\n",
       "      <td>...</td>\n",
       "      <td>...</td>\n",
       "      <td>...</td>\n",
       "      <td>...</td>\n",
       "      <td>...</td>\n",
       "      <td>...</td>\n",
       "    </tr>\n",
       "    <tr>\n",
       "      <th>96</th>\n",
       "      <td>9</td>\n",
       "      <td>No</td>\n",
       "      <td>Desempleado</td>\n",
       "      <td>30.0</td>\n",
       "      <td>8.209414</td>\n",
       "      <td>4.0</td>\n",
       "      <td>True</td>\n",
       "      <td>1</td>\n",
       "      <td>0</td>\n",
       "      <td>0</td>\n",
       "      <td>0</td>\n",
       "      <td>1</td>\n",
       "      <td>0</td>\n",
       "      <td>0</td>\n",
       "      <td>0</td>\n",
       "      <td>0</td>\n",
       "      <td>1</td>\n",
       "    </tr>\n",
       "    <tr>\n",
       "      <th>97</th>\n",
       "      <td>3</td>\n",
       "      <td>Si</td>\n",
       "      <td>Directivo</td>\n",
       "      <td>26.0</td>\n",
       "      <td>7.099113</td>\n",
       "      <td>2.4</td>\n",
       "      <td>False</td>\n",
       "      <td>0</td>\n",
       "      <td>1</td>\n",
       "      <td>0</td>\n",
       "      <td>0</td>\n",
       "      <td>0</td>\n",
       "      <td>1</td>\n",
       "      <td>0</td>\n",
       "      <td>0</td>\n",
       "      <td>1</td>\n",
       "      <td>0</td>\n",
       "    </tr>\n",
       "    <tr>\n",
       "      <th>98</th>\n",
       "      <td>6</td>\n",
       "      <td>No</td>\n",
       "      <td>Desempleado</td>\n",
       "      <td>27.0</td>\n",
       "      <td>7.066092</td>\n",
       "      <td>0.1</td>\n",
       "      <td>False</td>\n",
       "      <td>1</td>\n",
       "      <td>0</td>\n",
       "      <td>0</td>\n",
       "      <td>0</td>\n",
       "      <td>1</td>\n",
       "      <td>0</td>\n",
       "      <td>0</td>\n",
       "      <td>0</td>\n",
       "      <td>1</td>\n",
       "      <td>0</td>\n",
       "    </tr>\n",
       "    <tr>\n",
       "      <th>99</th>\n",
       "      <td>8</td>\n",
       "      <td>Si</td>\n",
       "      <td>Operativo</td>\n",
       "      <td>24.0</td>\n",
       "      <td>7.944202</td>\n",
       "      <td>4.6</td>\n",
       "      <td>False</td>\n",
       "      <td>0</td>\n",
       "      <td>1</td>\n",
       "      <td>0</td>\n",
       "      <td>0</td>\n",
       "      <td>0</td>\n",
       "      <td>0</td>\n",
       "      <td>0</td>\n",
       "      <td>1</td>\n",
       "      <td>1</td>\n",
       "      <td>0</td>\n",
       "    </tr>\n",
       "    <tr>\n",
       "      <th>100</th>\n",
       "      <td>0</td>\n",
       "      <td>Si</td>\n",
       "      <td>Becario</td>\n",
       "      <td>29.0</td>\n",
       "      <td>7.950439</td>\n",
       "      <td>0.0</td>\n",
       "      <td>False</td>\n",
       "      <td>0</td>\n",
       "      <td>1</td>\n",
       "      <td>0</td>\n",
       "      <td>1</td>\n",
       "      <td>0</td>\n",
       "      <td>0</td>\n",
       "      <td>0</td>\n",
       "      <td>0</td>\n",
       "      <td>1</td>\n",
       "      <td>0</td>\n",
       "    </tr>\n",
       "  </tbody>\n",
       "</table>\n",
       "<p>100 rows × 17 columns</p>\n",
       "</div>"
      ],
      "text/plain": [
       "     Experiencia Trabaja           Cargo  Edad  Promedio  Tiempo_ultimo  \\\n",
       "1              5      Si       Gerencial  28.0  7.897105            1.1   \n",
       "2             11      No     Desempleado  30.0  7.202217            9.6   \n",
       "3             12      No     Desempleado  24.0  9.687694            2.5   \n",
       "4              8      Si       Operativo  31.0  7.273117            7.3   \n",
       "5              9      Si  Administrativo  26.0  7.598649            4.4   \n",
       "..           ...     ...             ...   ...       ...            ...   \n",
       "96             9      No     Desempleado  30.0  8.209414            4.0   \n",
       "97             3      Si       Directivo  26.0  7.099113            2.4   \n",
       "98             6      No     Desempleado  27.0  7.066092            0.1   \n",
       "99             8      Si       Operativo  24.0  7.944202            4.6   \n",
       "100            0      Si         Becario  29.0  7.950439            0.0   \n",
       "\n",
       "     Contrato  Trabaja__No  Trabaja__Si  Administrativo  Becario  Desempleado  \\\n",
       "1       False            0            1               0        0            0   \n",
       "2       False            1            0               0        0            1   \n",
       "3        True            1            0               0        0            1   \n",
       "4       False            0            1               0        0            0   \n",
       "5       False            0            1               1        0            0   \n",
       "..        ...          ...          ...             ...      ...          ...   \n",
       "96       True            1            0               0        0            1   \n",
       "97      False            0            1               0        0            0   \n",
       "98      False            1            0               0        0            1   \n",
       "99      False            0            1               0        0            0   \n",
       "100     False            0            1               0        1            0   \n",
       "\n",
       "     Directivo  Gerencial  Operativo  Contrato__False  Contrato__True  \n",
       "1            0          1          0                1               0  \n",
       "2            0          0          0                1               0  \n",
       "3            0          0          0                0               1  \n",
       "4            0          0          1                1               0  \n",
       "5            0          0          0                1               0  \n",
       "..         ...        ...        ...              ...             ...  \n",
       "96           0          0          0                0               1  \n",
       "97           1          0          0                1               0  \n",
       "98           0          0          0                1               0  \n",
       "99           0          0          1                1               0  \n",
       "100          0          0          0                1               0  \n",
       "\n",
       "[100 rows x 17 columns]"
      ]
     },
     "execution_count": 26,
     "metadata": {},
     "output_type": "execute_result"
    }
   ],
   "source": [
    "df_4=pd.concat([df_3,dummies3],axis=1)\n",
    "df_4"
   ]
  },
  {
   "cell_type": "code",
   "execution_count": 27,
   "metadata": {},
   "outputs": [
    {
     "data": {
      "text/plain": [
       "Index(['Experiencia', 'Trabaja', 'Cargo', 'Edad', 'Promedio', 'Tiempo_ultimo',\n",
       "       'Contrato', 'Trabaja__No', 'Trabaja__Si', 'Administrativo', 'Becario',\n",
       "       'Desempleado', 'Directivo', 'Gerencial', 'Operativo', 'Contrato__False',\n",
       "       'Contrato__True'],\n",
       "      dtype='object')"
      ]
     },
     "execution_count": 27,
     "metadata": {},
     "output_type": "execute_result"
    }
   ],
   "source": [
    "df_4.columns"
   ]
  },
  {
   "cell_type": "code",
   "execution_count": 28,
   "metadata": {},
   "outputs": [],
   "source": [
    "X = df_4[['Experiencia', 'Edad', 'Promedio', 'Tiempo_ultimo',\n",
    "        'Trabaja__Si', 'Administrativo', 'Becario',\n",
    "       'Desempleado', 'Directivo', 'Gerencial', 'Operativo']]\n",
    "y = df_4[\"Contrato__True\"]"
   ]
  },
  {
   "cell_type": "code",
   "execution_count": 29,
   "metadata": {},
   "outputs": [],
   "source": [
    "import pandas as pd\n",
    "from sklearn.model_selection import train_test_split\n",
    "from sklearn.linear_model import LogisticRegression\n",
    "from sklearn import metrics\n",
    "import seaborn as sns"
   ]
  },
  {
   "cell_type": "code",
   "execution_count": 30,
   "metadata": {},
   "outputs": [],
   "source": [
    "# Creamos los grupos de entrenamiento y de prueba.\n",
    "X_train,X_test,y_train,y_test = train_test_split(X,y,test_size=0.25,random_state=1)"
   ]
  },
  {
   "cell_type": "code",
   "execution_count": 31,
   "metadata": {},
   "outputs": [
    {
     "name": "stderr",
     "output_type": "stream",
     "text": [
      "C:\\ProgramData\\Anaconda3\\lib\\site-packages\\sklearn\\linear_model\\_logistic.py:940: ConvergenceWarning: lbfgs failed to converge (status=1):\n",
      "STOP: TOTAL NO. of ITERATIONS REACHED LIMIT.\n",
      "\n",
      "Increase the number of iterations (max_iter) or scale the data as shown in:\n",
      "    https://scikit-learn.org/stable/modules/preprocessing.html\n",
      "Please also refer to the documentation for alternative solver options:\n",
      "    https://scikit-learn.org/stable/modules/linear_model.html#logistic-regression\n",
      "  extra_warning_msg=_LOGISTIC_SOLVER_CONVERGENCE_MSG)\n"
     ]
    },
    {
     "data": {
      "text/plain": [
       "LogisticRegression(C=1.0, class_weight=None, dual=False, fit_intercept=True,\n",
       "                   intercept_scaling=1, l1_ratio=None, max_iter=100,\n",
       "                   multi_class='auto', n_jobs=None, penalty='l2',\n",
       "                   random_state=None, solver='lbfgs', tol=0.0001, verbose=0,\n",
       "                   warm_start=False)"
      ]
     },
     "execution_count": 31,
     "metadata": {},
     "output_type": "execute_result"
    }
   ],
   "source": [
    "# Creamos el modelo de regresión\n",
    "logistic_regression= LogisticRegression()\n",
    "logistic_regression.fit(X_train,y_train)"
   ]
  },
  {
   "cell_type": "code",
   "execution_count": 32,
   "metadata": {},
   "outputs": [],
   "source": [
    "# Realizamos predicciones a partir del set de datos de prueba\n",
    "y_pred=logistic_regression.predict(X_test)"
   ]
  },
  {
   "cell_type": "code",
   "execution_count": 33,
   "metadata": {
    "scrolled": false
   },
   "outputs": [
    {
     "data": {
      "image/png": "[encoded data removed]",
      "text/plain": [
       "<Figure size 432x288 with 2 Axes>"
      ]
     },
     "metadata": {
      "needs_background": "light"
     },
     "output_type": "display_data"
    }
   ],
   "source": [
    "confusion_matrix = pd.crosstab(y_test, y_pred, rownames=['Actual'], colnames=['Predicted'])\n",
    "sns.heatmap(confusion_matrix, annot=True)\n",
    "plt.show()"
   ]
  },
  {
   "cell_type": "code",
   "execution_count": 34,
   "metadata": {},
   "outputs": [
    {
     "data": {
      "text/plain": [
       "25"
      ]
     },
     "execution_count": 34,
     "metadata": {},
     "output_type": "execute_result"
    }
   ],
   "source": [
    "len(X_test)"
   ]
  },
  {
   "cell_type": "code",
   "execution_count": 35,
   "metadata": {},
   "outputs": [
    {
     "name": "stdout",
     "output_type": "stream",
     "text": [
      "0, 0, 0, 0, 0, 1, 0, 0, 1, 0, 0, 1, 0, 0, 0, 0, 0, 0, 0, 0, 1, 0, 0, 0, 0, "
     ]
    }
   ],
   "source": [
    "for pred in y_pred:\n",
    "    print(pred, end=\", \")"
   ]
  },
  {
   "cell_type": "code",
   "execution_count": 36,
   "metadata": {
    "scrolled": true
   },
   "outputs": [
    {
     "name": "stdout",
     "output_type": "stream",
     "text": [
      "1, 0, 0, 0, 0, 0, 0, 1, 1, 0, 0, 1, 0, 0, 0, 0, 1, 0, 1, 0, 1, 0, 0, 0, 1, "
     ]
    }
   ],
   "source": [
    "for real in y_test:\n",
    "    print(real, end=\", \")"
   ]
  },
  {
   "cell_type": "code",
   "execution_count": 37,
   "metadata": {},
   "outputs": [
    {
     "data": {
      "text/plain": [
       "81    1\n",
       "85    0\n",
       "34    0\n",
       "82    0\n",
       "94    0\n",
       "18    0\n",
       "37    0\n",
       "83    1\n",
       "70    1\n",
       "66    0\n",
       "93    0\n",
       "40    1\n",
       "57    0\n",
       "53    0\n",
       "52    0\n",
       "33    0\n",
       "32    1\n",
       "45    0\n",
       "79    1\n",
       "11    0\n",
       "3     1\n",
       "74    0\n",
       "98    0\n",
       "63    0\n",
       "20    1\n",
       "Name: Contrato__True, dtype: uint8"
      ]
     },
     "execution_count": 37,
     "metadata": {},
     "output_type": "execute_result"
    }
   ],
   "source": [
    "y_test"
   ]
  },
  {
   "cell_type": "code",
   "execution_count": 38,
   "metadata": {
    "scrolled": false
   },
   "outputs": [
    {
     "name": "stdout",
     "output_type": "stream",
     "text": [
      "Accuracy:  0.76\n"
     ]
    }
   ],
   "source": [
    "print('Accuracy: ',metrics.accuracy_score(y_test, y_pred))"
   ]
  },
  {
   "cell_type": "code",
   "execution_count": 40,
   "metadata": {},
   "outputs": [
    {
     "data": {
      "text/plain": [
       "array([[ 0.39550379,  0.35538783,  2.42030234, -0.00360959,  0.04267534,\n",
       "         0.58251566, -0.13852151, -0.0443226 ,  0.20642815,  0.3952392 ,\n",
       "        -1.00298617]])"
      ]
     },
     "execution_count": 40,
     "metadata": {},
     "output_type": "execute_result"
    }
   ],
   "source": [
    "logistic_regression.coef_"
   ]
  },
  {
   "cell_type": "code",
   "execution_count": 41,
   "metadata": {},
   "outputs": [],
   "source": [
    "from sklearn.preprocessing import StandardScaler \n",
    "sc = StandardScaler() \n",
    "  \n",
    "X_train = sc.fit_transform(X_train) \n",
    "X_test = sc.transform(X_test) \n",
    "coef=sc.transform(logistic_regression.coef_)"
   ]
  },
  {
   "cell_type": "code",
   "execution_count": 42,
   "metadata": {},
   "outputs": [],
   "source": [
    "from sklearn.decomposition import PCA \n",
    "  \n",
    "pca = PCA(n_components = 2) \n",
    "  \n",
    "X_train = pca.fit_transform(X_train) \n",
    "X_test = pca.transform(X_test)\n",
    "coef=pca.transform(coef)\n",
    "  \n",
    "explained_variance = pca.explained_variance_ratio_ "
   ]
  },
  {
   "cell_type": "code",
   "execution_count": 43,
   "metadata": {},
   "outputs": [
    {
     "data": {
      "text/plain": [
       "array([0.24247239, 0.17665033])"
      ]
     },
     "execution_count": 43,
     "metadata": {},
     "output_type": "execute_result"
    }
   ],
   "source": [
    "explained_variance"
   ]
  },
  {
   "cell_type": "code",
   "execution_count": 44,
   "metadata": {},
   "outputs": [],
   "source": [
    "PCA_1=[]\n",
    "PCA_2=[]\n",
    "for n in range(len(X_train)):\n",
    "    PCA_1.append(X_train[n][0])\n",
    "    PCA_2.append(X_train[n][1])"
   ]
  },
  {
   "cell_type": "code",
   "execution_count": 45,
   "metadata": {},
   "outputs": [
    {
     "data": {
      "image/png": "[encoded data removed]",
      "text/plain": [
       "<Figure size 432x288 with 1 Axes>"
      ]
     },
     "metadata": {
      "needs_background": "light"
     },
     "output_type": "display_data"
    }
   ],
   "source": [
    "sns.scatterplot(PCA_1,PCA_2)\n",
    "plt.xlabel(\"PCA_1\")\n",
    "plt.ylabel(\"PCA_2\")\n",
    "plt.show()"
   ]
  },
  {
   "cell_type": "code",
   "execution_count": 46,
   "metadata": {},
   "outputs": [],
   "source": [
    "PCA_1_test=[]\n",
    "PCA_2_test=[]\n",
    "for n in range(len(X_test)):\n",
    "    PCA_1_test.append(X_test[n][0])\n",
    "    PCA_2_test.append(X_test[n][1])"
   ]
  },
  {
   "cell_type": "code",
   "execution_count": 49,
   "metadata": {},
   "outputs": [
    {
     "data": {
      "image/png": "[encoded data removed]",
      "text/plain": [
       "<Figure size 432x288 with 1 Axes>"
      ]
     },
     "metadata": {
      "needs_background": "light"
     },
     "output_type": "display_data"
    }
   ],
   "source": [
    "sns.scatterplot(PCA_1,PCA_2)\n",
    "sns.scatterplot(PCA_1_test,PCA_2_test)\n",
    "plt.xlabel(\"PCA_1\")\n",
    "plt.ylabel(\"PCA_2\")\n",
    "plt.show()"
   ]
  },
  {
   "cell_type": "code",
   "execution_count": null,
   "metadata": {},
   "outputs": [],
   "source": []
  }
 ],
 "metadata": {
  "kernelspec": {
   "display_name": "Python 3",
   "language": "python",
   "name": "python3"
  },
  "language_info": {
   "codemirror_mode": {
    "name": "ipython",
    "version": 3
   },
   "file_extension": ".py",
   "mimetype": "text/x-python",
   "name": "python",
   "nbconvert_exporter": "python",
   "pygments_lexer": "ipython3",
   "version": "3.7.6"
  }
 },
 "nbformat": 4,
 "nbformat_minor": 4
}
