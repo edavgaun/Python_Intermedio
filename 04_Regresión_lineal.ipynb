{
 "cells": [
  {
   "cell_type": "markdown",
   "metadata": {
    "colab_type": "text",
    "id": "wqcoaCqzEPHa"
   },
   "source": [
    "# Modelo de Regresión Lineal, usando datos simulados"
   ]
  },
  {
   "cell_type": "markdown",
   "metadata": {
    "colab_type": "text",
    "id": "iugHrgN4EPHl"
   },
   "source": [
    "\\begin{align*}\n",
    "\\large\n",
    "y = a + bx\n",
    "\\end{align*}\n",
    "\n",
    "* X :  100 valores distribuidos según una N(mu = 1.5, sd = 2)\n",
    "\n",
    "\\begin{align*}\n",
    "\\large\n",
    "y = 4 + 2x + \\epsilon\n",
    "\\end{align*}\n",
    "\n",
    "* e :  valores distribuidos según una N(0, 0.9)"
   ]
  },
  {
   "cell_type": "code",
   "execution_count": 1,
   "metadata": {
    "colab": {},
    "colab_type": "code",
    "id": "gNwTeIV9EPHq"
   },
   "outputs": [],
   "source": [
    "import pandas as pd\n",
    "import numpy as np\n",
    "import matplotlib.pyplot as plt"
   ]
  },
  {
   "cell_type": "code",
   "execution_count": 2,
   "metadata": {
    "colab": {},
    "colab_type": "code",
    "id": "vPQERnckEPIJ"
   },
   "outputs": [],
   "source": [
    "np.random.seed(0)\n",
    "x = np.random.normal(1.5,2,100)"
   ]
  },
  {
   "cell_type": "code",
   "execution_count": 3,
   "metadata": {
    "colab": {},
    "colab_type": "code",
    "id": "a4ixMPjKEPIZ",
    "outputId": "52fbb56d-9820-4387-f94e-8f6cca2090bb"
   },
   "outputs": [
    {
     "data": {
      "image/png": "[encoded data removed]",
      "text/plain": [
       "<Figure size 432x288 with 1 Axes>"
      ]
     },
     "metadata": {
      "needs_background": "light"
     },
     "output_type": "display_data"
    }
   ],
   "source": [
    "plt.hist(x)\n",
    "plt.show()"
   ]
  },
  {
   "cell_type": "code",
   "execution_count": 4,
   "metadata": {
    "colab": {},
    "colab_type": "code",
    "id": "7LjHJkWTEPIp"
   },
   "outputs": [],
   "source": [
    "np.random.seed(1)\n",
    "res = np.random.normal(0,0.9,100)"
   ]
  },
  {
   "cell_type": "code",
   "execution_count": 5,
   "metadata": {
    "colab": {},
    "colab_type": "code",
    "id": "8ssA647_EPI2",
    "outputId": "053a820a-7d59-4b1f-826f-ce7379a7f109"
   },
   "outputs": [
    {
     "data": {
      "image/png": "[encoded data removed]",
      "text/plain": [
       "<Figure size 432x288 with 1 Axes>"
      ]
     },
     "metadata": {
      "needs_background": "light"
     },
     "output_type": "display_data"
    }
   ],
   "source": [
    "plt.hist(res)\n",
    "plt.show()"
   ]
  },
  {
   "cell_type": "code",
   "execution_count": 6,
   "metadata": {
    "colab": {},
    "colab_type": "code",
    "id": "d63Kda1oEPJC"
   },
   "outputs": [],
   "source": [
    "y_pred = 4 + 2 * x"
   ]
  },
  {
   "cell_type": "code",
   "execution_count": 7,
   "metadata": {
    "colab": {},
    "colab_type": "code",
    "id": "Gxo1SNEtEPJU"
   },
   "outputs": [],
   "source": [
    "y_actual = 4 + 2 * x + res"
   ]
  },
  {
   "cell_type": "code",
   "execution_count": 8,
   "metadata": {
    "colab": {},
    "colab_type": "code",
    "id": "jYRWlxEwEPJe"
   },
   "outputs": [],
   "source": [
    "x_list=x.tolist()\n",
    "y_pred_list=y_pred.tolist()\n",
    "y_act_list=y_actual.tolist()"
   ]
  },
  {
   "cell_type": "code",
   "execution_count": 9,
   "metadata": {
    "colab": {},
    "colab_type": "code",
    "id": "EaZQWK9oEPJo",
    "outputId": "7569183c-37d1-41f1-fd0d-2170d525740c"
   },
   "outputs": [
    {
     "data": {
      "text/html": [
       "<div>\n",
       "<style scoped>\n",
       "    .dataframe tbody tr th:only-of-type {\n",
       "        vertical-align: middle;\n",
       "    }\n",
       "\n",
       "    .dataframe tbody tr th {\n",
       "        vertical-align: top;\n",
       "    }\n",
       "\n",
       "    .dataframe thead th {\n",
       "        text-align: right;\n",
       "    }\n",
       "</style>\n",
       "<table border=\"1\" class=\"dataframe\">\n",
       "  <thead>\n",
       "    <tr style=\"text-align: right;\">\n",
       "      <th></th>\n",
       "      <th>x</th>\n",
       "      <th>y_actual</th>\n",
       "      <th>y_pred</th>\n",
       "    </tr>\n",
       "  </thead>\n",
       "  <tbody>\n",
       "    <tr>\n",
       "      <th>0</th>\n",
       "      <td>5.028105</td>\n",
       "      <td>15.518120</td>\n",
       "      <td>14.056209</td>\n",
       "    </tr>\n",
       "    <tr>\n",
       "      <th>1</th>\n",
       "      <td>2.300314</td>\n",
       "      <td>8.050048</td>\n",
       "      <td>8.600629</td>\n",
       "    </tr>\n",
       "    <tr>\n",
       "      <th>2</th>\n",
       "      <td>3.457476</td>\n",
       "      <td>10.439597</td>\n",
       "      <td>10.914952</td>\n",
       "    </tr>\n",
       "    <tr>\n",
       "      <th>3</th>\n",
       "      <td>5.981786</td>\n",
       "      <td>14.997901</td>\n",
       "      <td>15.963573</td>\n",
       "    </tr>\n",
       "    <tr>\n",
       "      <th>4</th>\n",
       "      <td>5.235116</td>\n",
       "      <td>15.249099</td>\n",
       "      <td>14.470232</td>\n",
       "    </tr>\n",
       "  </tbody>\n",
       "</table>\n",
       "</div>"
      ],
      "text/plain": [
       "          x   y_actual     y_pred\n",
       "0  5.028105  15.518120  14.056209\n",
       "1  2.300314   8.050048   8.600629\n",
       "2  3.457476  10.439597  10.914952\n",
       "3  5.981786  14.997901  15.963573\n",
       "4  5.235116  15.249099  14.470232"
      ]
     },
     "execution_count": 9,
     "metadata": {},
     "output_type": "execute_result"
    }
   ],
   "source": [
    "data=pd.DataFrame({\"x\":x_list, \"y_actual\":y_act_list, \"y_pred\":y_pred_list})\n",
    "data.head()"
   ]
  },
  {
   "cell_type": "code",
   "execution_count": 10,
   "metadata": {
    "colab": {},
    "colab_type": "code",
    "id": "LH5CRIx5EPJ8",
    "outputId": "f98e4fd3-3989-4375-b1e5-cf2eb004864a"
   },
   "outputs": [
    {
     "data": {
      "text/plain": [
       "Text(0.5, 1.0, 'Valor actual vs Predicción')"
      ]
     },
     "execution_count": 10,
     "metadata": {},
     "output_type": "execute_result"
    },
    {
     "data": {
      "image/png": "[encoded data removed]",
      "text/plain": [
       "<Figure size 432x288 with 1 Axes>"
      ]
     },
     "metadata": {
      "needs_background": "light"
     },
     "output_type": "display_data"
    }
   ],
   "source": [
    "plt.plot(x,y_pred)\n",
    "plt.plot(x,y_actual,\"ro\")\n",
    "plt.title(\"Valor actual vs Predicción\")"
   ]
  },
  {
   "cell_type": "code",
   "execution_count": 11,
   "metadata": {
    "colab": {},
    "colab_type": "code",
    "id": "3WxacdonEPKK"
   },
   "outputs": [],
   "source": [
    "y_media = [np.mean(y_actual) for i in range(1, len(x_list)+1)]"
   ]
  },
  {
   "cell_type": "code",
   "execution_count": 12,
   "metadata": {
    "colab": {},
    "colab_type": "code",
    "id": "HtC7ySunEPKV",
    "outputId": "0b1853ab-05e0-48ca-b268-aaf2bb62f140",
    "scrolled": true
   },
   "outputs": [
    {
     "data": {
      "text/plain": [
       "Text(0.5, 1.0, 'Valor actual vs Predicción')"
      ]
     },
     "execution_count": 12,
     "metadata": {},
     "output_type": "execute_result"
    },
    {
     "data": {
      "image/png": "[encoded data removed]",
      "text/plain": [
       "<Figure size 432x288 with 1 Axes>"
      ]
     },
     "metadata": {
      "needs_background": "light"
     },
     "output_type": "display_data"
    }
   ],
   "source": [
    "plt.plot(x, y_pred)\n",
    "plt.plot(x, y_actual,\"ro\")\n",
    "plt.plot(x, y_media,\"g\")\n",
    "plt.title(\"Valor actual vs Predicción\")"
   ]
  },
  {
   "cell_type": "markdown",
   "metadata": {
    "colab_type": "text",
    "id": "oR8GB5npEPKe"
   },
   "source": [
    "**En un mundo ideal:**\n",
    "\n",
    "\\begin{align*}\n",
    "SST=SSR+SSD\n",
    "\\end{align*}\n",
    "\n",
    "\n",
    "La suma de los cuadrados totales es igual a la suma de los cuadrados de la refresión mas la suma de los cuadrados de la diferencia.\n",
    "\n",
    "\\begin{align*}\n",
    "SSR=\\sum{(y_r-\\bar{y})^2}\n",
    "\\end{align*}\n",
    "\n",
    "\\begin{align*}\n",
    "SSD=\\sum{(y_i-y_r)^2}\n",
    "\\end{align*}\n",
    "\n",
    "\\begin{align*}\n",
    "SST=\\sum{(y_i-\\bar{y})^2}\n",
    "\\end{align*}"
   ]
  },
  {
   "cell_type": "code",
   "execution_count": 13,
   "metadata": {
    "colab": {},
    "colab_type": "code",
    "id": "cEtDBAogEPKh"
   },
   "outputs": [],
   "source": [
    "data[\"SSR\"]= (data.y_pred-y_media)**2\n",
    "data[\"SSD\"]= (data.y_actual-data.y_pred)**2\n",
    "data[\"SST\"]= (data.y_actual-y_media)**2"
   ]
  },
  {
   "cell_type": "code",
   "execution_count": 14,
   "metadata": {
    "colab": {},
    "colab_type": "code",
    "id": "PJTcqZEcEPKq",
    "outputId": "7d777541-a5fb-4651-e300-d41081948401"
   },
   "outputs": [
    {
     "data": {
      "text/html": [
       "<div>\n",
       "<style scoped>\n",
       "    .dataframe tbody tr th:only-of-type {\n",
       "        vertical-align: middle;\n",
       "    }\n",
       "\n",
       "    .dataframe tbody tr th {\n",
       "        vertical-align: top;\n",
       "    }\n",
       "\n",
       "    .dataframe thead th {\n",
       "        text-align: right;\n",
       "    }\n",
       "</style>\n",
       "<table border=\"1\" class=\"dataframe\">\n",
       "  <thead>\n",
       "    <tr style=\"text-align: right;\">\n",
       "      <th></th>\n",
       "      <th>x</th>\n",
       "      <th>y_actual</th>\n",
       "      <th>y_pred</th>\n",
       "      <th>SSR</th>\n",
       "      <th>SSD</th>\n",
       "      <th>SST</th>\n",
       "    </tr>\n",
       "  </thead>\n",
       "  <tbody>\n",
       "    <tr>\n",
       "      <th>0</th>\n",
       "      <td>5.028105</td>\n",
       "      <td>15.518120</td>\n",
       "      <td>14.056209</td>\n",
       "      <td>45.730767</td>\n",
       "      <td>2.137183</td>\n",
       "      <td>67.640156</td>\n",
       "    </tr>\n",
       "    <tr>\n",
       "      <th>1</th>\n",
       "      <td>2.300314</td>\n",
       "      <td>8.050048</td>\n",
       "      <td>8.600629</td>\n",
       "      <td>1.707915</td>\n",
       "      <td>0.303139</td>\n",
       "      <td>0.571977</td>\n",
       "    </tr>\n",
       "    <tr>\n",
       "      <th>2</th>\n",
       "      <td>3.457476</td>\n",
       "      <td>10.439597</td>\n",
       "      <td>10.914952</td>\n",
       "      <td>13.113055</td>\n",
       "      <td>0.225962</td>\n",
       "      <td>9.896314</td>\n",
       "    </tr>\n",
       "    <tr>\n",
       "      <th>3</th>\n",
       "      <td>5.981786</td>\n",
       "      <td>14.997901</td>\n",
       "      <td>15.963573</td>\n",
       "      <td>75.165712</td>\n",
       "      <td>0.932522</td>\n",
       "      <td>59.353841</td>\n",
       "    </tr>\n",
       "    <tr>\n",
       "      <th>4</th>\n",
       "      <td>5.235116</td>\n",
       "      <td>15.249099</td>\n",
       "      <td>14.470232</td>\n",
       "      <td>51.501798</td>\n",
       "      <td>0.606634</td>\n",
       "      <td>63.287469</td>\n",
       "    </tr>\n",
       "  </tbody>\n",
       "</table>\n",
       "</div>"
      ],
      "text/plain": [
       "          x   y_actual     y_pred        SSR       SSD        SST\n",
       "0  5.028105  15.518120  14.056209  45.730767  2.137183  67.640156\n",
       "1  2.300314   8.050048   8.600629   1.707915  0.303139   0.571977\n",
       "2  3.457476  10.439597  10.914952  13.113055  0.225962   9.896314\n",
       "3  5.981786  14.997901  15.963573  75.165712  0.932522  59.353841\n",
       "4  5.235116  15.249099  14.470232  51.501798  0.606634  63.287469"
      ]
     },
     "execution_count": 14,
     "metadata": {},
     "output_type": "execute_result"
    }
   ],
   "source": [
    "data.head()"
   ]
  },
  {
   "cell_type": "code",
   "execution_count": 15,
   "metadata": {
    "colab": {},
    "colab_type": "code",
    "id": "JtQzIpTzEPK4",
    "outputId": "2d521e90-9e5b-4547-cc4b-7906885fa4b9"
   },
   "outputs": [
    {
     "name": "stdout",
     "output_type": "stream",
     "text": [
      "1625.6198835831058\n",
      "63.76091619287372\n",
      "1784.7480121288086\n"
     ]
    }
   ],
   "source": [
    "SSR=sum(data.SSR)\n",
    "SSD=sum(data.SSD)\n",
    "SST=sum(data.SST)\n",
    "print(SSR)\n",
    "print(SSD)\n",
    "print(SST)"
   ]
  },
  {
   "cell_type": "code",
   "execution_count": 16,
   "metadata": {
    "colab": {},
    "colab_type": "code",
    "id": "npfZBHKDEPLF",
    "outputId": "fcc5dd13-e3ff-4b57-8e4b-3b0581b94ff8"
   },
   "outputs": [
    {
     "data": {
      "text/plain": [
       "1689.3807997759795"
      ]
     },
     "execution_count": 16,
     "metadata": {},
     "output_type": "execute_result"
    }
   ],
   "source": [
    "SSR+SSD"
   ]
  },
  {
   "cell_type": "markdown",
   "metadata": {
    "colab_type": "text",
    "id": "zdyzCxgoEPLT"
   },
   "source": [
    "Calculemos el coeficiente de correlación mediante la siguiente fórmula:\n",
    "\\begin{align*}\n",
    "R^2=\\frac{SSR}{SST}\n",
    "\\end{align*}"
   ]
  },
  {
   "cell_type": "code",
   "execution_count": 17,
   "metadata": {
    "colab": {},
    "colab_type": "code",
    "id": "25hzZLFlEPLW",
    "outputId": "c409cbd1-ff9b-45ac-f9f8-64025baf1537"
   },
   "outputs": [
    {
     "name": "stdout",
     "output_type": "stream",
     "text": [
      "0.9108400023620712\n"
     ]
    }
   ],
   "source": [
    "R2=SSR/SST\n",
    "print(R2)"
   ]
  },
  {
   "cell_type": "markdown",
   "metadata": {
    "colab_type": "text",
    "id": "ep4vq4-gEPLe"
   },
   "source": [
    "## Obteniendo la recta de regresión"
   ]
  },
  {
   "cell_type": "markdown",
   "metadata": {
    "colab_type": "text",
    "id": "9nvX49gGEPLh"
   },
   "source": [
    " La recta de regresión lineal simple tiene la siguiente forma:\n",
    " \n",
    " \\begin{align*}\n",
    " y=a+bx\n",
    " \\end{align*}\n",
    " \n",
    " donde a es la ordenada al origen y b la pendiente\n",
    " \n",
    " Los parámetros de la regresión simple se calculan mediante:\n",
    " \n",
    "\\begin{align*}\n",
    "b=\\frac{\\sum(x-\\bar{x})(y-\\bar{y})}{\\sum(x-\\bar{x})^2}\n",
    "\\end{align*}\n",
    "\n",
    "\\begin{align*}\n",
    "a=\\bar{y}-b\\bar{x}\n",
    "\\end{align*}"
   ]
  },
  {
   "cell_type": "code",
   "execution_count": 18,
   "metadata": {
    "colab": {},
    "colab_type": "code",
    "id": "0YWjEsl8EPLm",
    "outputId": "1fd11eff-3384-44c0-f4a4-938891845300"
   },
   "outputs": [
    {
     "data": {
      "text/plain": [
       "(1.6196160310689693, 7.293756629006068)"
      ]
     },
     "execution_count": 18,
     "metadata": {},
     "output_type": "execute_result"
    }
   ],
   "source": [
    "x_mean=np.mean(data.x)\n",
    "y_mean=np.mean(data.y_actual)\n",
    "x_mean,y_mean"
   ]
  },
  {
   "cell_type": "code",
   "execution_count": 19,
   "metadata": {
    "colab": {},
    "colab_type": "code",
    "id": "kqivTRupEPLv"
   },
   "outputs": [],
   "source": [
    "data[\"b_numerador\"]=(data.x-x_mean)*(data.y_actual-y_mean)\n",
    "data[\"b_denominador\"]=(data.x-x_mean)**2"
   ]
  },
  {
   "cell_type": "code",
   "execution_count": 20,
   "metadata": {
    "colab": {},
    "colab_type": "code",
    "id": "ap2JIbdTEPL-",
    "outputId": "d274e738-a46a-4d07-da87-699ac2366d26"
   },
   "outputs": [
    {
     "data": {
      "text/html": [
       "<div>\n",
       "<style scoped>\n",
       "    .dataframe tbody tr th:only-of-type {\n",
       "        vertical-align: middle;\n",
       "    }\n",
       "\n",
       "    .dataframe tbody tr th {\n",
       "        vertical-align: top;\n",
       "    }\n",
       "\n",
       "    .dataframe thead th {\n",
       "        text-align: right;\n",
       "    }\n",
       "</style>\n",
       "<table border=\"1\" class=\"dataframe\">\n",
       "  <thead>\n",
       "    <tr style=\"text-align: right;\">\n",
       "      <th></th>\n",
       "      <th>x</th>\n",
       "      <th>y_actual</th>\n",
       "      <th>y_pred</th>\n",
       "      <th>SSR</th>\n",
       "      <th>SSD</th>\n",
       "      <th>SST</th>\n",
       "      <th>b_numerador</th>\n",
       "      <th>b_denominador</th>\n",
       "    </tr>\n",
       "  </thead>\n",
       "  <tbody>\n",
       "    <tr>\n",
       "      <th>0</th>\n",
       "      <td>5.028105</td>\n",
       "      <td>15.518120</td>\n",
       "      <td>14.056209</td>\n",
       "      <td>45.730767</td>\n",
       "      <td>2.137183</td>\n",
       "      <td>67.640156</td>\n",
       "      <td>28.032650</td>\n",
       "      <td>11.617795</td>\n",
       "    </tr>\n",
       "    <tr>\n",
       "      <th>1</th>\n",
       "      <td>2.300314</td>\n",
       "      <td>8.050048</td>\n",
       "      <td>8.600629</td>\n",
       "      <td>1.707915</td>\n",
       "      <td>0.303139</td>\n",
       "      <td>0.571977</td>\n",
       "      <td>0.514806</td>\n",
       "      <td>0.463350</td>\n",
       "    </tr>\n",
       "    <tr>\n",
       "      <th>2</th>\n",
       "      <td>3.457476</td>\n",
       "      <td>10.439597</td>\n",
       "      <td>10.914952</td>\n",
       "      <td>13.113055</td>\n",
       "      <td>0.225962</td>\n",
       "      <td>9.896314</td>\n",
       "      <td>5.781615</td>\n",
       "      <td>3.377729</td>\n",
       "    </tr>\n",
       "    <tr>\n",
       "      <th>3</th>\n",
       "      <td>5.981786</td>\n",
       "      <td>14.997901</td>\n",
       "      <td>15.963573</td>\n",
       "      <td>75.165712</td>\n",
       "      <td>0.932522</td>\n",
       "      <td>59.353841</td>\n",
       "      <td>33.606790</td>\n",
       "      <td>19.028530</td>\n",
       "    </tr>\n",
       "    <tr>\n",
       "      <th>4</th>\n",
       "      <td>5.235116</td>\n",
       "      <td>15.249099</td>\n",
       "      <td>14.470232</td>\n",
       "      <td>51.501798</td>\n",
       "      <td>0.606634</td>\n",
       "      <td>63.287469</td>\n",
       "      <td>28.762539</td>\n",
       "      <td>13.071840</td>\n",
       "    </tr>\n",
       "  </tbody>\n",
       "</table>\n",
       "</div>"
      ],
      "text/plain": [
       "          x   y_actual     y_pred        SSR       SSD        SST  \\\n",
       "0  5.028105  15.518120  14.056209  45.730767  2.137183  67.640156   \n",
       "1  2.300314   8.050048   8.600629   1.707915  0.303139   0.571977   \n",
       "2  3.457476  10.439597  10.914952  13.113055  0.225962   9.896314   \n",
       "3  5.981786  14.997901  15.963573  75.165712  0.932522  59.353841   \n",
       "4  5.235116  15.249099  14.470232  51.501798  0.606634  63.287469   \n",
       "\n",
       "   b_numerador  b_denominador  \n",
       "0    28.032650      11.617795  \n",
       "1     0.514806       0.463350  \n",
       "2     5.781615       3.377729  \n",
       "3    33.606790      19.028530  \n",
       "4    28.762539      13.071840  "
      ]
     },
     "execution_count": 20,
     "metadata": {},
     "output_type": "execute_result"
    }
   ],
   "source": [
    "data.head()"
   ]
  },
  {
   "cell_type": "code",
   "execution_count": 21,
   "metadata": {
    "colab": {},
    "colab_type": "code",
    "id": "GB1w6EvzEPML"
   },
   "outputs": [],
   "source": [
    "b=sum(data.b_numerador)/sum(data.b_denominador)"
   ]
  },
  {
   "cell_type": "code",
   "execution_count": 22,
   "metadata": {
    "colab": {},
    "colab_type": "code",
    "id": "-7f6pcx3EPMS"
   },
   "outputs": [],
   "source": [
    "a=y_mean-b*x_mean"
   ]
  },
  {
   "cell_type": "code",
   "execution_count": 23,
   "metadata": {
    "colab": {},
    "colab_type": "code",
    "id": "5VUEoxmuEPMb",
    "outputId": "871d911b-24db-41d7-8723-3cafd54b72fb"
   },
   "outputs": [
    {
     "data": {
      "text/plain": [
       "(3.9588996937833985, 2.0590416933707534)"
      ]
     },
     "execution_count": 23,
     "metadata": {},
     "output_type": "execute_result"
    }
   ],
   "source": [
    "a,b"
   ]
  },
  {
   "cell_type": "markdown",
   "metadata": {
    "colab_type": "text",
    "id": "Nj_BXMYJEPMj"
   },
   "source": [
    "\\begin{align*}\n",
    "y_{modelo}=3.9689+2.059x\n",
    "\\end{align*}"
   ]
  },
  {
   "cell_type": "markdown",
   "metadata": {
    "colab_type": "text",
    "id": "gq1_iH3OEPMm"
   },
   "source": [
    "El modelo de regresión ya contiene el parametro dado por el error con el que se había iniciado el problema. Al ya estar ajustado es posible pensar que se puede obtener una mejor predicción del ejemplo:"
   ]
  },
  {
   "cell_type": "code",
   "execution_count": 24,
   "metadata": {
    "colab": {},
    "colab_type": "code",
    "id": "i3eTtI0oEPMo",
    "outputId": "1cbc8908-bb66-4ae9-aefc-ae88f4a55fc3"
   },
   "outputs": [
    {
     "data": {
      "text/html": [
       "<div>\n",
       "<style scoped>\n",
       "    .dataframe tbody tr th:only-of-type {\n",
       "        vertical-align: middle;\n",
       "    }\n",
       "\n",
       "    .dataframe tbody tr th {\n",
       "        vertical-align: top;\n",
       "    }\n",
       "\n",
       "    .dataframe thead th {\n",
       "        text-align: right;\n",
       "    }\n",
       "</style>\n",
       "<table border=\"1\" class=\"dataframe\">\n",
       "  <thead>\n",
       "    <tr style=\"text-align: right;\">\n",
       "      <th></th>\n",
       "      <th>x</th>\n",
       "      <th>y_actual</th>\n",
       "      <th>y_pred</th>\n",
       "      <th>SSR</th>\n",
       "      <th>SSD</th>\n",
       "      <th>SST</th>\n",
       "      <th>b_numerador</th>\n",
       "      <th>b_denominador</th>\n",
       "      <th>y_modelo</th>\n",
       "    </tr>\n",
       "  </thead>\n",
       "  <tbody>\n",
       "    <tr>\n",
       "      <th>0</th>\n",
       "      <td>5.028105</td>\n",
       "      <td>15.518120</td>\n",
       "      <td>14.056209</td>\n",
       "      <td>45.730767</td>\n",
       "      <td>2.137183</td>\n",
       "      <td>67.640156</td>\n",
       "      <td>28.032650</td>\n",
       "      <td>11.617795</td>\n",
       "      <td>14.311977</td>\n",
       "    </tr>\n",
       "    <tr>\n",
       "      <th>1</th>\n",
       "      <td>2.300314</td>\n",
       "      <td>8.050048</td>\n",
       "      <td>8.600629</td>\n",
       "      <td>1.707915</td>\n",
       "      <td>0.303139</td>\n",
       "      <td>0.571977</td>\n",
       "      <td>0.514806</td>\n",
       "      <td>0.463350</td>\n",
       "      <td>8.695343</td>\n",
       "    </tr>\n",
       "    <tr>\n",
       "      <th>2</th>\n",
       "      <td>3.457476</td>\n",
       "      <td>10.439597</td>\n",
       "      <td>10.914952</td>\n",
       "      <td>13.113055</td>\n",
       "      <td>0.225962</td>\n",
       "      <td>9.896314</td>\n",
       "      <td>5.781615</td>\n",
       "      <td>3.377729</td>\n",
       "      <td>11.077987</td>\n",
       "    </tr>\n",
       "    <tr>\n",
       "      <th>3</th>\n",
       "      <td>5.981786</td>\n",
       "      <td>14.997901</td>\n",
       "      <td>15.963573</td>\n",
       "      <td>75.165712</td>\n",
       "      <td>0.932522</td>\n",
       "      <td>59.353841</td>\n",
       "      <td>33.606790</td>\n",
       "      <td>19.028530</td>\n",
       "      <td>16.275647</td>\n",
       "    </tr>\n",
       "    <tr>\n",
       "      <th>4</th>\n",
       "      <td>5.235116</td>\n",
       "      <td>15.249099</td>\n",
       "      <td>14.470232</td>\n",
       "      <td>51.501798</td>\n",
       "      <td>0.606634</td>\n",
       "      <td>63.287469</td>\n",
       "      <td>28.762539</td>\n",
       "      <td>13.071840</td>\n",
       "      <td>14.738222</td>\n",
       "    </tr>\n",
       "  </tbody>\n",
       "</table>\n",
       "</div>"
      ],
      "text/plain": [
       "          x   y_actual     y_pred        SSR       SSD        SST  \\\n",
       "0  5.028105  15.518120  14.056209  45.730767  2.137183  67.640156   \n",
       "1  2.300314   8.050048   8.600629   1.707915  0.303139   0.571977   \n",
       "2  3.457476  10.439597  10.914952  13.113055  0.225962   9.896314   \n",
       "3  5.981786  14.997901  15.963573  75.165712  0.932522  59.353841   \n",
       "4  5.235116  15.249099  14.470232  51.501798  0.606634  63.287469   \n",
       "\n",
       "   b_numerador  b_denominador   y_modelo  \n",
       "0    28.032650      11.617795  14.311977  \n",
       "1     0.514806       0.463350   8.695343  \n",
       "2     5.781615       3.377729  11.077987  \n",
       "3    33.606790      19.028530  16.275647  \n",
       "4    28.762539      13.071840  14.738222  "
      ]
     },
     "execution_count": 24,
     "metadata": {},
     "output_type": "execute_result"
    }
   ],
   "source": [
    "data[\"y_modelo\"]=a+b*data.x\n",
    "data.head()"
   ]
  },
  {
   "cell_type": "code",
   "execution_count": 25,
   "metadata": {
    "colab": {},
    "colab_type": "code",
    "id": "Mrd0fp0YEPM0"
   },
   "outputs": [],
   "source": [
    "SSR_2= sum((data.y_modelo-y_mean)**2)\n",
    "SSD_2= sum((data.y_modelo-data.y_actual)**2)\n",
    "SST_2= sum((data.y_actual-y_mean)**2)"
   ]
  },
  {
   "cell_type": "code",
   "execution_count": 26,
   "metadata": {
    "colab": {},
    "colab_type": "code",
    "id": "lNTjqPLoEPNP",
    "outputId": "1cf19d66-5166-4fa8-b098-b45ff0be5caa"
   },
   "outputs": [
    {
     "name": "stdout",
     "output_type": "stream",
     "text": [
      "1722.700825538816\n",
      "62.04718658999103\n",
      "1784.7480121288093\n"
     ]
    }
   ],
   "source": [
    "print(SSR_2)\n",
    "print(SSD_2)\n",
    "print(SST_2)"
   ]
  },
  {
   "cell_type": "code",
   "execution_count": 27,
   "metadata": {
    "colab": {},
    "colab_type": "code",
    "id": "i2rpjOyfEPNZ",
    "outputId": "bafa4d1c-a230-43fa-c77a-0262a8012f15"
   },
   "outputs": [
    {
     "data": {
      "text/plain": [
       "1784.748012128807"
      ]
     },
     "execution_count": 27,
     "metadata": {},
     "output_type": "execute_result"
    }
   ],
   "source": [
    "SSR_2+SSD_2"
   ]
  },
  {
   "cell_type": "code",
   "execution_count": 28,
   "metadata": {
    "colab": {},
    "colab_type": "code",
    "id": "TPwk34CUEPNh",
    "outputId": "39fbe640-058e-4f9b-c52d-96fd0f4fb783"
   },
   "outputs": [
    {
     "name": "stdout",
     "output_type": "stream",
     "text": [
      "0.9652347635810028\n"
     ]
    }
   ],
   "source": [
    "R2_2=SSR_2/SST_2\n",
    "print(R2_2)"
   ]
  },
  {
   "cell_type": "code",
   "execution_count": 29,
   "metadata": {
    "colab": {},
    "colab_type": "code",
    "id": "tnYT1cQrEPNu",
    "outputId": "35b3148a-a14a-4499-8d64-ce89eae0c2fd"
   },
   "outputs": [
    {
     "data": {
      "text/plain": [
       "Text(0.5, 1.0, 'Valor actual vs Predicción')"
      ]
     },
     "execution_count": 29,
     "metadata": {},
     "output_type": "execute_result"
    },
    {
     "data": {
      "image/png": "[encoded data removed]",
      "text/plain": [
       "<Figure size 432x288 with 1 Axes>"
      ]
     },
     "metadata": {
      "needs_background": "light"
     },
     "output_type": "display_data"
    }
   ],
   "source": [
    "plt.plot(data.x, data.y_pred)\n",
    "plt.plot(data.x, data.y_actual,\"ro\")\n",
    "plt.plot(data.x, y_media,\"g\")\n",
    "plt.plot(data.x, data.y_modelo)\n",
    "plt.title(\"Valor actual vs Predicción\")"
   ]
  },
  {
   "cell_type": "markdown",
   "metadata": {
    "colab_type": "text",
    "id": "3j8iFACjEPOR"
   },
   "source": [
    "## Error estandar de los residuos (RSE)"
   ]
  },
  {
   "cell_type": "markdown",
   "metadata": {
    "colab_type": "text",
    "id": "jferv4DSEPOT"
   },
   "source": [
    "\\begin{align*}\n",
    "RSE=\\sqrt{\\frac{SSD}{n-k-1}}\n",
    "\\end{align*}\n",
    "\n",
    "Donde $n$ representa el número de filas en el DataFrame, $k$ el número de variables predictoras."
   ]
  },
  {
   "cell_type": "code",
   "execution_count": 30,
   "metadata": {
    "colab": {},
    "colab_type": "code",
    "id": "WgIQ9aQAEPOX",
    "outputId": "a2734887-3ec5-40cf-9647-1c44c9789494"
   },
   "outputs": [
    {
     "data": {
      "text/plain": [
       "0.8066111788246143"
      ]
     },
     "execution_count": 30,
     "metadata": {},
     "output_type": "execute_result"
    }
   ],
   "source": [
    "RSE=np.sqrt(SSD/(len(data)-2))\n",
    "RSE"
   ]
  },
  {
   "cell_type": "code",
   "execution_count": 31,
   "metadata": {
    "colab": {},
    "colab_type": "code",
    "id": "lMwAYkkqEPOh",
    "outputId": "1ef68e2e-23bf-4573-d3dd-5eda5fb52eaa"
   },
   "outputs": [
    {
     "data": {
      "text/plain": [
       "7.293756629006068"
      ]
     },
     "execution_count": 31,
     "metadata": {},
     "output_type": "execute_result"
    }
   ],
   "source": [
    "np.mean(data.y_actual)"
   ]
  },
  {
   "cell_type": "code",
   "execution_count": 32,
   "metadata": {
    "colab": {},
    "colab_type": "code",
    "id": "cAiqdl4kEPOv",
    "outputId": "5ae94b5f-cb7d-4cc3-db7a-1898b5ce19a1"
   },
   "outputs": [
    {
     "data": {
      "text/plain": [
       "0.11058926419574443"
      ]
     },
     "execution_count": 32,
     "metadata": {},
     "output_type": "execute_result"
    }
   ],
   "source": [
    "error_prom=RSE/np.mean(data.y_actual)\n",
    "error_prom"
   ]
  },
  {
   "cell_type": "markdown",
   "metadata": {
    "colab_type": "text",
    "id": "Hnip_gKAEPO4"
   },
   "source": [
    "## Regresión Lineal en Python"
   ]
  },
  {
   "cell_type": "code",
   "execution_count": 50,
   "metadata": {},
   "outputs": [
    {
     "data": {
      "image/png": "[encoded data removed]",
      "text/plain": [
       "<Figure size 432x288 with 1 Axes>"
      ]
     },
     "metadata": {
      "needs_background": "light"
     },
     "output_type": "display_data"
    }
   ],
   "source": [
    "import numpy as np\n",
    "import matplotlib.pyplot as plt\n",
    "\n",
    "np.random.seed(0)\n",
    "x = 2 - 3 * np.random.normal(0, 1, 20)\n",
    "y = x - 2 * (x ** 2) + 0.5 * (x ** 3) + np.random.normal(-3, 3, 20)\n",
    "plt.scatter(x,y, s=10)\n",
    "plt.show()"
   ]
  },
  {
   "cell_type": "code",
   "execution_count": 51,
   "metadata": {},
   "outputs": [
    {
     "data": {
      "image/png": "[encoded data removed]",
      "text/plain": [
       "<Figure size 432x288 with 1 Axes>"
      ]
     },
     "metadata": {
      "needs_background": "light"
     },
     "output_type": "display_data"
    }
   ],
   "source": [
    "import numpy as np\n",
    "import matplotlib.pyplot as plt\n",
    "\n",
    "from sklearn.linear_model import LinearRegression\n",
    "\n",
    "np.random.seed(0)\n",
    "x = 2 - 3 * np.random.normal(0, 1, 20)\n",
    "y = x - 2 * (x ** 2) + 0.5 * (x ** 3) + np.random.normal(-3, 3, 20)\n",
    "\n",
    "# Transformando los datos a arreglos bidimensionales para Scikit Learn\n",
    "x = x[:, np.newaxis]\n",
    "y = y[:, np.newaxis]\n",
    "\n",
    "# Entrenando el modelo\n",
    "model = LinearRegression()\n",
    "model.fit(x, y)\n",
    "y_pred = model.predict(x)\n",
    "\n",
    "plt.scatter(x, y, s=10)\n",
    "plt.plot(x, y_pred, color='r')\n",
    "plt.show()\n"
   ]
  },
  {
   "cell_type": "code",
   "execution_count": 64,
   "metadata": {},
   "outputs": [
    {
     "name": "stdout",
     "output_type": "stream",
     "text": [
      " Pendiente:\t\t [[8.29238755]] \n",
      " Ordenada al origen:\t [-16.79645067]\n"
     ]
    }
   ],
   "source": [
    "print(\" Pendiente:\\t\\t\",model.coef_,\"\\n\",\"Ordenada al origen:\\t\", model.intercept_)"
   ]
  },
  {
   "cell_type": "code",
   "execution_count": 44,
   "metadata": {},
   "outputs": [
    {
     "name": "stdout",
     "output_type": "stream",
     "text": [
      "0.6386750054827146 253.07217948430372 15.908242501429998\n"
     ]
    }
   ],
   "source": [
    "from sklearn.metrics import mean_squared_error, r2_score\n",
    "\n",
    "r2=r2_score(y,y_pred)\n",
    "MSE=mean_squared_error(y,y_pred)\n",
    "RMSE=MSE**0.5\n",
    "\n",
    "print(r2,MSE,RMSE)"
   ]
  },
  {
   "cell_type": "code",
   "execution_count": 95,
   "metadata": {},
   "outputs": [
    {
     "name": "stdout",
     "output_type": "stream",
     "text": [
      "10.120437473614711\n",
      "0.8537647164420812\n"
     ]
    },
    {
     "data": {
      "image/png": "[encoded data removed]",
      "text/plain": [
       "<Figure size 432x288 with 1 Axes>"
      ]
     },
     "metadata": {
      "needs_background": "light"
     },
     "output_type": "display_data"
    }
   ],
   "source": [
    "import numpy as np\n",
    "import matplotlib.pyplot as plt\n",
    "\n",
    "from sklearn.linear_model import LinearRegression\n",
    "from sklearn.metrics import mean_squared_error, r2_score\n",
    "from sklearn.preprocessing import PolynomialFeatures\n",
    "\n",
    "np.random.seed(0)\n",
    "x = 2 - 3 * np.random.normal(0, 1, 20)\n",
    "y = x - 2 * (x ** 2) + 0.5 * (x ** 3) + np.random.normal(-3, 3, 20)\n",
    "\n",
    "# Transformando los datos a arreglos bidimensionales para Scikit Learn\n",
    "x = x[:, np.newaxis]\n",
    "y = y[:, np.newaxis]\n",
    "\n",
    "# Ajustando los valores de X de acuerdo al grado del polinomio\n",
    "polynomial_features= PolynomialFeatures(degree=2)\n",
    "x_poly = polynomial_features.fit_transform(x)\n",
    "\n",
    "# Entrenando el modelo\n",
    "model = LinearRegression()\n",
    "model.fit(x_poly, y)\n",
    "y_poly_pred = model.predict(x_poly)\n",
    "\n",
    "rmse = np.sqrt(mean_squared_error(y,y_poly_pred))\n",
    "r2 = r2_score(y,y_poly_pred)\n",
    "print(rmse)\n",
    "print(r2)\n",
    "\n",
    "plt.scatter(x, y, s=10)\n",
    "# Para la segunda gráfica, será necesario ordenar los datos\n",
    "sorted_zip = sorted(zip(x,y_poly_pred))\n",
    "x, y_poly_pred = zip(*sorted_zip)\n",
    "plt.plot(x, y_poly_pred, color='m')\n",
    "plt.show()"
   ]
  },
  {
   "cell_type": "code",
   "execution_count": 123,
   "metadata": {},
   "outputs": [],
   "source": [
    "def regresion_pol(grado, X, Y):\n",
    "    import numpy as np\n",
    "    import matplotlib.pyplot as plt\n",
    "\n",
    "    from sklearn.linear_model import LinearRegression\n",
    "    from sklearn.metrics import mean_squared_error, r2_score\n",
    "    from sklearn.preprocessing import PolynomialFeatures\n",
    "\n",
    "    # Transformando los datos a arreglos bidimensionales para Scikit Learn\n",
    "    x = X[:, np.newaxis]\n",
    "    y = Y[:, np.newaxis]\n",
    "\n",
    "    # Ajustando los valores de X de acuerdo al grado del polinomio\n",
    "    polynomial_features= PolynomialFeatures(degree=grado)\n",
    "    x_poly = polynomial_features.fit_transform(x)\n",
    "\n",
    "    # Entrenando el modelo\n",
    "    model = LinearRegression()\n",
    "    model.fit(x_poly, y)\n",
    "    y_poly_pred = model.predict(x_poly)\n",
    "\n",
    "    rmse = np.sqrt(mean_squared_error(y,y_poly_pred))\n",
    "    r2 = r2_score(y,y_poly_pred)\n",
    "\n",
    "    # Para la segunda gráfica, será necesario ordenar los datos\n",
    "    sorted_zip = sorted(zip(x,y_poly_pred))\n",
    "    x, y_poly_pred = zip(*sorted_zip)\n",
    "    lineas=[\"-\",\"--\",\"-:\",\":\"]\n",
    "    grafica=plt.plot(x, y_poly_pred, \n",
    "                     color=(np.random.rand(),np.random.rand(),np.random.rand(),1),\n",
    "                    linestyle=np.random.choice(lineas))\n",
    "    return grafica, r2, rmse"
   ]
  },
  {
   "cell_type": "code",
   "execution_count": 124,
   "metadata": {},
   "outputs": [],
   "source": [
    "np.random.seed(0)\n",
    "x = 2 - 3 * np.random.normal(0, 1, 20)\n",
    "y = x - 2 * (x ** 2) + 0.5 * (x ** 3) + np.random.normal(-3, 3, 20)"
   ]
  },
  {
   "cell_type": "code",
   "execution_count": 125,
   "metadata": {},
   "outputs": [
    {
     "data": {
      "image/png": "[encoded data removed]",
      "text/plain": [
       "<Figure size 432x288 with 1 Axes>"
      ]
     },
     "metadata": {
      "needs_background": "light"
     },
     "output_type": "display_data"
    }
   ],
   "source": [
    "plt.scatter(x, y, s=10)\n",
    "leyenda=[]\n",
    "for n in range(1,6):\n",
    "    regresion_pol(n, x, y)[0]\n",
    "    leyenda.append(n)\n",
    "leyenda.append(\"Real\")\n",
    "plt.legend(leyenda,loc=4)\n",
    "plt.show()"
   ]
  },
  {
   "cell_type": "code",
   "execution_count": 33,
   "metadata": {
    "colab": {},
    "colab_type": "code",
    "id": "DSJoorSgEPO6"
   },
   "outputs": [],
   "source": [
    "import pandas as pd\n",
    "import numpy as np\n",
    "import matplotlib.pyplot as plt\n",
    "import seaborn as sns"
   ]
  },
  {
   "cell_type": "code",
   "execution_count": 81,
   "metadata": {
    "colab": {},
    "colab_type": "code",
    "id": "x2NdM2gKEPPI"
   },
   "outputs": [],
   "source": [
    "df=pd.read_csv(\"Datasets\\Advertising.csv\")"
   ]
  },
  {
   "cell_type": "code",
   "execution_count": 82,
   "metadata": {
    "colab": {},
    "colab_type": "code",
    "id": "2xafFWSfEPPQ",
    "outputId": "5b97d330-6e64-45cf-a95e-7cb2bb606b71",
    "scrolled": true
   },
   "outputs": [
    {
     "data": {
      "text/html": [
       "<div>\n",
       "<style scoped>\n",
       "    .dataframe tbody tr th:only-of-type {\n",
       "        vertical-align: middle;\n",
       "    }\n",
       "\n",
       "    .dataframe tbody tr th {\n",
       "        vertical-align: top;\n",
       "    }\n",
       "\n",
       "    .dataframe thead th {\n",
       "        text-align: right;\n",
       "    }\n",
       "</style>\n",
       "<table border=\"1\" class=\"dataframe\">\n",
       "  <thead>\n",
       "    <tr style=\"text-align: right;\">\n",
       "      <th></th>\n",
       "      <th>Unnamed: 0</th>\n",
       "      <th>TV</th>\n",
       "      <th>Radio</th>\n",
       "      <th>Newspaper</th>\n",
       "      <th>Sales</th>\n",
       "    </tr>\n",
       "  </thead>\n",
       "  <tbody>\n",
       "    <tr>\n",
       "      <th>0</th>\n",
       "      <td>1</td>\n",
       "      <td>230.1</td>\n",
       "      <td>37.8</td>\n",
       "      <td>69.2</td>\n",
       "      <td>22.1</td>\n",
       "    </tr>\n",
       "    <tr>\n",
       "      <th>1</th>\n",
       "      <td>2</td>\n",
       "      <td>44.5</td>\n",
       "      <td>39.3</td>\n",
       "      <td>45.1</td>\n",
       "      <td>10.4</td>\n",
       "    </tr>\n",
       "    <tr>\n",
       "      <th>2</th>\n",
       "      <td>3</td>\n",
       "      <td>17.2</td>\n",
       "      <td>45.9</td>\n",
       "      <td>69.3</td>\n",
       "      <td>9.3</td>\n",
       "    </tr>\n",
       "    <tr>\n",
       "      <th>3</th>\n",
       "      <td>4</td>\n",
       "      <td>151.5</td>\n",
       "      <td>41.3</td>\n",
       "      <td>58.5</td>\n",
       "      <td>18.5</td>\n",
       "    </tr>\n",
       "    <tr>\n",
       "      <th>4</th>\n",
       "      <td>5</td>\n",
       "      <td>180.8</td>\n",
       "      <td>10.8</td>\n",
       "      <td>58.4</td>\n",
       "      <td>12.9</td>\n",
       "    </tr>\n",
       "  </tbody>\n",
       "</table>\n",
       "</div>"
      ],
      "text/plain": [
       "   Unnamed: 0     TV  Radio  Newspaper  Sales\n",
       "0           1  230.1   37.8       69.2   22.1\n",
       "1           2   44.5   39.3       45.1   10.4\n",
       "2           3   17.2   45.9       69.3    9.3\n",
       "3           4  151.5   41.3       58.5   18.5\n",
       "4           5  180.8   10.8       58.4   12.9"
      ]
     },
     "execution_count": 82,
     "metadata": {},
     "output_type": "execute_result"
    }
   ],
   "source": [
    "df[:5]"
   ]
  },
  {
   "cell_type": "code",
   "execution_count": 83,
   "metadata": {},
   "outputs": [],
   "source": [
    "df.drop(df.columns[0], axis=1, inplace=True)"
   ]
  },
  {
   "cell_type": "code",
   "execution_count": 84,
   "metadata": {},
   "outputs": [
    {
     "data": {
      "text/plain": [
       "['TV', 'Radio', 'Newspaper']"
      ]
     },
     "execution_count": 84,
     "metadata": {},
     "output_type": "execute_result"
    }
   ],
   "source": [
    "medios=df.columns\n",
    "medios=list(medios)\n",
    "medios.remove(\"Sales\")\n",
    "medios"
   ]
  },
  {
   "cell_type": "code",
   "execution_count": 85,
   "metadata": {
    "scrolled": true
   },
   "outputs": [
    {
     "data": {
      "image/png": "[encoded data removed]",
      "text/plain": [
       "<Figure size 432x288 with 1 Axes>"
      ]
     },
     "metadata": {
      "needs_background": "light"
     },
     "output_type": "display_data"
    }
   ],
   "source": [
    "df.plot()\n",
    "plt.show()"
   ]
  },
  {
   "cell_type": "code",
   "execution_count": 86,
   "metadata": {},
   "outputs": [
    {
     "data": {
      "image/png": "[encoded data removed]",
      "text/plain": [
       "<Figure size 432x288 with 1 Axes>"
      ]
     },
     "metadata": {
      "needs_background": "light"
     },
     "output_type": "display_data"
    }
   ],
   "source": [
    "for medio in medios:\n",
    "    sns.scatterplot(x=medio, y=\"Sales\", data=df)\n",
    "plt.xlabel(\"Investment\")\n",
    "plt.legend(medios)\n",
    "plt.show()"
   ]
  },
  {
   "cell_type": "code",
   "execution_count": null,
   "metadata": {},
   "outputs": [],
   "source": []
  }
 ],
 "metadata": {
  "colab": {
   "name": "03_Regresión_lineal.ipynb",
   "provenance": []
  },
  "kernelspec": {
   "display_name": "Python 3",
   "language": "python",
   "name": "python3"
  },
  "language_info": {
   "codemirror_mode": {
    "name": "ipython",
    "version": 3
   },
   "file_extension": ".py",
   "mimetype": "text/x-python",
   "name": "python",
   "nbconvert_exporter": "python",
   "pygments_lexer": "ipython3",
   "version": "3.7.6"
  }
 },
 "nbformat": 4,
 "nbformat_minor": 1
}
